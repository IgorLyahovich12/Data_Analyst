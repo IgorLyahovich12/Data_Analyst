{
 "cells": [
  {
   "cell_type": "markdown",
   "id": "0304aebb",
   "metadata": {},
   "source": [
    "## Завдання ЛР 4\n",
    "\n",
    "У цій роботі ви спробуєте навчити класифікатор класифікувати позичальників банку на добросовісних (ті, що вчасно повернуть кредит) та недобросовісних (ті, що не повернуть кредит або повернуть невчасно) на основі набору характеристик позичальників банку."
   ]
  },
  {
   "cell_type": "code",
   "execution_count": 1,
   "id": "74dcbb31",
   "metadata": {},
   "outputs": [
    {
     "data": {
      "text/html": [
       "<div>\n",
       "<style scoped>\n",
       "    .dataframe tbody tr th:only-of-type {\n",
       "        vertical-align: middle;\n",
       "    }\n",
       "\n",
       "    .dataframe tbody tr th {\n",
       "        vertical-align: top;\n",
       "    }\n",
       "\n",
       "    .dataframe thead th {\n",
       "        text-align: right;\n",
       "    }\n",
       "</style>\n",
       "<table border=\"1\" class=\"dataframe\">\n",
       "  <thead>\n",
       "    <tr style=\"text-align: right;\">\n",
       "      <th></th>\n",
       "      <th>person_age</th>\n",
       "      <th>person_income</th>\n",
       "      <th>person_home_ownership</th>\n",
       "      <th>person_emp_length</th>\n",
       "      <th>loan_intent</th>\n",
       "      <th>loan_grade</th>\n",
       "      <th>loan_amnt</th>\n",
       "      <th>loan_int_rate</th>\n",
       "      <th>loan_status</th>\n",
       "      <th>loan_percent_income</th>\n",
       "      <th>cb_person_default_on_file</th>\n",
       "      <th>cb_person_cred_hist_length</th>\n",
       "    </tr>\n",
       "  </thead>\n",
       "  <tbody>\n",
       "    <tr>\n",
       "      <th>0</th>\n",
       "      <td>22</td>\n",
       "      <td>59000</td>\n",
       "      <td>RENT</td>\n",
       "      <td>123.0</td>\n",
       "      <td>PERSONAL</td>\n",
       "      <td>D</td>\n",
       "      <td>35000</td>\n",
       "      <td>16.02</td>\n",
       "      <td>1</td>\n",
       "      <td>0.59</td>\n",
       "      <td>Y</td>\n",
       "      <td>3</td>\n",
       "    </tr>\n",
       "    <tr>\n",
       "      <th>1</th>\n",
       "      <td>21</td>\n",
       "      <td>9600</td>\n",
       "      <td>OWN</td>\n",
       "      <td>5.0</td>\n",
       "      <td>EDUCATION</td>\n",
       "      <td>B</td>\n",
       "      <td>1000</td>\n",
       "      <td>11.14</td>\n",
       "      <td>0</td>\n",
       "      <td>0.10</td>\n",
       "      <td>N</td>\n",
       "      <td>2</td>\n",
       "    </tr>\n",
       "    <tr>\n",
       "      <th>2</th>\n",
       "      <td>25</td>\n",
       "      <td>9600</td>\n",
       "      <td>MORTGAGE</td>\n",
       "      <td>1.0</td>\n",
       "      <td>MEDICAL</td>\n",
       "      <td>C</td>\n",
       "      <td>5500</td>\n",
       "      <td>12.87</td>\n",
       "      <td>1</td>\n",
       "      <td>0.57</td>\n",
       "      <td>N</td>\n",
       "      <td>3</td>\n",
       "    </tr>\n",
       "    <tr>\n",
       "      <th>3</th>\n",
       "      <td>23</td>\n",
       "      <td>65500</td>\n",
       "      <td>RENT</td>\n",
       "      <td>4.0</td>\n",
       "      <td>MEDICAL</td>\n",
       "      <td>C</td>\n",
       "      <td>35000</td>\n",
       "      <td>15.23</td>\n",
       "      <td>1</td>\n",
       "      <td>0.53</td>\n",
       "      <td>N</td>\n",
       "      <td>2</td>\n",
       "    </tr>\n",
       "    <tr>\n",
       "      <th>4</th>\n",
       "      <td>24</td>\n",
       "      <td>54400</td>\n",
       "      <td>RENT</td>\n",
       "      <td>8.0</td>\n",
       "      <td>MEDICAL</td>\n",
       "      <td>C</td>\n",
       "      <td>35000</td>\n",
       "      <td>14.27</td>\n",
       "      <td>1</td>\n",
       "      <td>0.55</td>\n",
       "      <td>Y</td>\n",
       "      <td>4</td>\n",
       "    </tr>\n",
       "  </tbody>\n",
       "</table>\n",
       "</div>"
      ],
      "text/plain": [
       "   person_age  person_income person_home_ownership  person_emp_length  \\\n",
       "0          22          59000                  RENT              123.0   \n",
       "1          21           9600                   OWN                5.0   \n",
       "2          25           9600              MORTGAGE                1.0   \n",
       "3          23          65500                  RENT                4.0   \n",
       "4          24          54400                  RENT                8.0   \n",
       "\n",
       "  loan_intent loan_grade  loan_amnt  loan_int_rate  loan_status  \\\n",
       "0    PERSONAL          D      35000          16.02            1   \n",
       "1   EDUCATION          B       1000          11.14            0   \n",
       "2     MEDICAL          C       5500          12.87            1   \n",
       "3     MEDICAL          C      35000          15.23            1   \n",
       "4     MEDICAL          C      35000          14.27            1   \n",
       "\n",
       "   loan_percent_income cb_person_default_on_file  cb_person_cred_hist_length  \n",
       "0                 0.59                         Y                           3  \n",
       "1                 0.10                         N                           2  \n",
       "2                 0.57                         N                           3  \n",
       "3                 0.53                         N                           2  \n",
       "4                 0.55                         Y                           4  "
      ]
     },
     "execution_count": 1,
     "metadata": {},
     "output_type": "execute_result"
    }
   ],
   "source": [
    "#імпортуємо необхідні бібліотеки\n",
    "import numpy as np\n",
    "import pandas as pd \n",
    "import matplotlib.pyplot as plt\n",
    "import seaborn as sns\n",
    "df = pd.read_csv('credit_default.csv')\n",
    "df.head()"
   ]
  },
  {
   "cell_type": "code",
   "execution_count": 2,
   "id": "9b0a264e",
   "metadata": {},
   "outputs": [
    {
     "name": "stdout",
     "output_type": "stream",
     "text": [
      "<class 'pandas.core.frame.DataFrame'>\n",
      "RangeIndex: 32581 entries, 0 to 32580\n",
      "Data columns (total 12 columns):\n",
      " #   Column                      Non-Null Count  Dtype  \n",
      "---  ------                      --------------  -----  \n",
      " 0   person_age                  32581 non-null  int64  \n",
      " 1   person_income               32581 non-null  int64  \n",
      " 2   person_home_ownership       32581 non-null  object \n",
      " 3   person_emp_length           31686 non-null  float64\n",
      " 4   loan_intent                 32581 non-null  object \n",
      " 5   loan_grade                  32581 non-null  object \n",
      " 6   loan_amnt                   32581 non-null  int64  \n",
      " 7   loan_int_rate               29465 non-null  float64\n",
      " 8   loan_status                 32581 non-null  int64  \n",
      " 9   loan_percent_income         32581 non-null  float64\n",
      " 10  cb_person_default_on_file   32581 non-null  object \n",
      " 11  cb_person_cred_hist_length  32581 non-null  int64  \n",
      "dtypes: float64(3), int64(5), object(4)\n",
      "memory usage: 3.0+ MB\n"
     ]
    }
   ],
   "source": [
    "df.info()"
   ]
  },
  {
   "cell_type": "code",
   "execution_count": 3,
   "id": "27f43aa6-da89-4818-bc4b-f415b6af8f6e",
   "metadata": {},
   "outputs": [
    {
     "data": {
      "text/html": [
       "<div>\n",
       "<style scoped>\n",
       "    .dataframe tbody tr th:only-of-type {\n",
       "        vertical-align: middle;\n",
       "    }\n",
       "\n",
       "    .dataframe tbody tr th {\n",
       "        vertical-align: top;\n",
       "    }\n",
       "\n",
       "    .dataframe thead th {\n",
       "        text-align: right;\n",
       "    }\n",
       "</style>\n",
       "<table border=\"1\" class=\"dataframe\">\n",
       "  <thead>\n",
       "    <tr style=\"text-align: right;\">\n",
       "      <th></th>\n",
       "      <th>person_age</th>\n",
       "      <th>person_income</th>\n",
       "      <th>person_emp_length</th>\n",
       "      <th>loan_amnt</th>\n",
       "      <th>loan_int_rate</th>\n",
       "      <th>loan_status</th>\n",
       "      <th>loan_percent_income</th>\n",
       "      <th>cb_person_cred_hist_length</th>\n",
       "    </tr>\n",
       "  </thead>\n",
       "  <tbody>\n",
       "    <tr>\n",
       "      <th>count</th>\n",
       "      <td>32581.000000</td>\n",
       "      <td>3.258100e+04</td>\n",
       "      <td>31686.000000</td>\n",
       "      <td>32581.000000</td>\n",
       "      <td>29465.000000</td>\n",
       "      <td>32581.000000</td>\n",
       "      <td>32581.000000</td>\n",
       "      <td>32581.000000</td>\n",
       "    </tr>\n",
       "    <tr>\n",
       "      <th>mean</th>\n",
       "      <td>27.734600</td>\n",
       "      <td>6.607485e+04</td>\n",
       "      <td>4.789686</td>\n",
       "      <td>9589.371106</td>\n",
       "      <td>11.011695</td>\n",
       "      <td>0.218164</td>\n",
       "      <td>0.170203</td>\n",
       "      <td>5.804211</td>\n",
       "    </tr>\n",
       "    <tr>\n",
       "      <th>std</th>\n",
       "      <td>6.348078</td>\n",
       "      <td>6.198312e+04</td>\n",
       "      <td>4.142630</td>\n",
       "      <td>6322.086646</td>\n",
       "      <td>3.240459</td>\n",
       "      <td>0.413006</td>\n",
       "      <td>0.106782</td>\n",
       "      <td>4.055001</td>\n",
       "    </tr>\n",
       "    <tr>\n",
       "      <th>min</th>\n",
       "      <td>20.000000</td>\n",
       "      <td>4.000000e+03</td>\n",
       "      <td>0.000000</td>\n",
       "      <td>500.000000</td>\n",
       "      <td>5.420000</td>\n",
       "      <td>0.000000</td>\n",
       "      <td>0.000000</td>\n",
       "      <td>2.000000</td>\n",
       "    </tr>\n",
       "    <tr>\n",
       "      <th>25%</th>\n",
       "      <td>23.000000</td>\n",
       "      <td>3.850000e+04</td>\n",
       "      <td>2.000000</td>\n",
       "      <td>5000.000000</td>\n",
       "      <td>7.900000</td>\n",
       "      <td>0.000000</td>\n",
       "      <td>0.090000</td>\n",
       "      <td>3.000000</td>\n",
       "    </tr>\n",
       "    <tr>\n",
       "      <th>50%</th>\n",
       "      <td>26.000000</td>\n",
       "      <td>5.500000e+04</td>\n",
       "      <td>4.000000</td>\n",
       "      <td>8000.000000</td>\n",
       "      <td>10.990000</td>\n",
       "      <td>0.000000</td>\n",
       "      <td>0.150000</td>\n",
       "      <td>4.000000</td>\n",
       "    </tr>\n",
       "    <tr>\n",
       "      <th>75%</th>\n",
       "      <td>30.000000</td>\n",
       "      <td>7.920000e+04</td>\n",
       "      <td>7.000000</td>\n",
       "      <td>12200.000000</td>\n",
       "      <td>13.470000</td>\n",
       "      <td>0.000000</td>\n",
       "      <td>0.230000</td>\n",
       "      <td>8.000000</td>\n",
       "    </tr>\n",
       "    <tr>\n",
       "      <th>max</th>\n",
       "      <td>144.000000</td>\n",
       "      <td>6.000000e+06</td>\n",
       "      <td>123.000000</td>\n",
       "      <td>35000.000000</td>\n",
       "      <td>23.220000</td>\n",
       "      <td>1.000000</td>\n",
       "      <td>0.830000</td>\n",
       "      <td>30.000000</td>\n",
       "    </tr>\n",
       "  </tbody>\n",
       "</table>\n",
       "</div>"
      ],
      "text/plain": [
       "         person_age  person_income  person_emp_length     loan_amnt  \\\n",
       "count  32581.000000   3.258100e+04       31686.000000  32581.000000   \n",
       "mean      27.734600   6.607485e+04           4.789686   9589.371106   \n",
       "std        6.348078   6.198312e+04           4.142630   6322.086646   \n",
       "min       20.000000   4.000000e+03           0.000000    500.000000   \n",
       "25%       23.000000   3.850000e+04           2.000000   5000.000000   \n",
       "50%       26.000000   5.500000e+04           4.000000   8000.000000   \n",
       "75%       30.000000   7.920000e+04           7.000000  12200.000000   \n",
       "max      144.000000   6.000000e+06         123.000000  35000.000000   \n",
       "\n",
       "       loan_int_rate   loan_status  loan_percent_income  \\\n",
       "count   29465.000000  32581.000000         32581.000000   \n",
       "mean       11.011695      0.218164             0.170203   \n",
       "std         3.240459      0.413006             0.106782   \n",
       "min         5.420000      0.000000             0.000000   \n",
       "25%         7.900000      0.000000             0.090000   \n",
       "50%        10.990000      0.000000             0.150000   \n",
       "75%        13.470000      0.000000             0.230000   \n",
       "max        23.220000      1.000000             0.830000   \n",
       "\n",
       "       cb_person_cred_hist_length  \n",
       "count                32581.000000  \n",
       "mean                     5.804211  \n",
       "std                      4.055001  \n",
       "min                      2.000000  \n",
       "25%                      3.000000  \n",
       "50%                      4.000000  \n",
       "75%                      8.000000  \n",
       "max                     30.000000  "
      ]
     },
     "execution_count": 3,
     "metadata": {},
     "output_type": "execute_result"
    }
   ],
   "source": [
    "df.describe ()"
   ]
  },
  {
   "cell_type": "markdown",
   "id": "d9230f71",
   "metadata": {},
   "source": [
    "### Опис датафрейму  \n",
    "Цей набір даних містить інформацію про 32581 позичальників банку:  \n",
    "**person_age** - вік позичальника  \n",
    "**person_income** - річний дохід позичальника     \n",
    "**person_home_ownership** - житло: орендує, виплачує іпотеку, власне житло     \n",
    "**person_emp_length** - стаж роботи      \n",
    "**loan_intent** - призначення кредиту: навчання, лікування і т.д.  \n",
    "**loan_grade** - кредитний рейтинг       \n",
    "**loan_amnt** - розмір кредиту     \n",
    "**loanintrate** - відсоткова ставка по кредиту  \n",
    "**loan_status - статус кредиту (0 сплачено, 1 - не сплачено) ЦІЛЬОВА ЗМІННА**     \n",
    "**loan_percent_income** - розмір кредитного платежу у % до доходу   \n",
    "**cb_person_default_on_file** - кредитна історія   \n",
    "**cb_preson_cred_hist_length** - тривалість кредитної історії"
   ]
  },
  {
   "cell_type": "markdown",
   "id": "a035d0db",
   "metadata": {},
   "source": [
    "### Завдання\n",
    "1. Подивіться на датасет: .head (), .info (), .dtypes, .describe ()  \n",
    "2. Для кращого розуміння даних порівняйте характеристики добросовісних та недобросовісних позичальників, **зробіть відповідні висновки**  \n",
    "3. Виконайте попередню обробку даних  \n",
    "4. Реалізуйте алгоритми логістичної регресії, найближчих сусідів (KNN) та опорних векторів (SVM) для класифікації позичальників банку (<span style=\"color:red\"> перший алгоритм розглядала на лекції, другий, третій - на самостійне опрацювання</span>). Перевірте точність класифікаторів та обретіть найкращий із них для подальшої роботи. **Зробіть висновки: чи вдалося побудувати точний класифікатор; який із трьох розглянутих алгоритмів показав найкращі, а який найгірші результати?**  \n",
    "5. Необхідно прийняти рішення щодо видачі кредиту  для нових позичальників, інформація про яких знаходиться в файлі 'give_refuse_a_loan.csv': спрогнозуйте значення цільової змінної та **зробіть висновки яким позичальникам варто видати кредит, а яким - відмовити.**"
   ]
  },
  {
   "cell_type": "code",
   "execution_count": 4,
   "id": "2d9ed7aa",
   "metadata": {},
   "outputs": [],
   "source": [
    "#df: 32,581 записи клієнтів в 12 стовпців."
   ]
  },
  {
   "cell_type": "code",
   "execution_count": 5,
   "id": "e186dddf",
   "metadata": {},
   "outputs": [],
   "source": [
    "#Кількісні:person_age ,person_income,loan_amnt,loan_status,cb_person_cred_hist_length,person_emp_length,loan_int_rate,loan_percent_income.\n",
    "#Категораільні:person_home_ownership,loan_intent,loan_grade,cb_person_default_on_file\n",
    "#person_emp_length — 895 пропущених значень.\n",
    "#loan_int_rate — 3116 пропущених значень."
   ]
  },
  {
   "cell_type": "code",
   "execution_count": 6,
   "id": "05ffebbc-c0f0-4cae-bcb6-5adae7241afe",
   "metadata": {},
   "outputs": [],
   "source": [
    "#2 Для кращого розуміння даних порівняйте характеристики добросовісних та недобросовісних позичальників, зробіть відповідні висновки"
   ]
  },
  {
   "cell_type": "code",
   "execution_count": 7,
   "id": "aa268055-d11e-4b54-a3fb-fc1e606e4b74",
   "metadata": {},
   "outputs": [
    {
     "name": "stdout",
     "output_type": "stream",
     "text": [
      "                            Добросовісні  Не добросовісні\n",
      "person_age                     27.807129        27.474676\n",
      "person_income               70804.361559     49125.652223\n",
      "person_emp_length               4.968745         4.137562\n",
      "loan_amnt                    9237.464178     10850.502954\n",
      "loan_int_rate                  10.435999        13.060207\n",
      "loan_status                     0.000000         1.000000\n",
      "loan_percent_income             0.148805         0.246889\n",
      "cb_person_cred_hist_length      5.837475         5.685003\n"
     ]
    }
   ],
   "source": [
    "# Поділ на групи за статусом кредиту сплачено або ні\n",
    "good_borrowers = df[df['loan_status'] == 0]\n",
    "bad_borrowers = df[df['loan_status'] == 1]\n",
    "\n",
    "avg_0 = good_borrowers.mean(numeric_only=True)\n",
    "avg_1 = bad_borrowers.mean(numeric_only=True)\n",
    "# Порівняння результатів\n",
    "comparison = pd.DataFrame({'Добросовісні': avg_0, 'Не добросовісні': avg_1})\n",
    "\n",
    "# Вивід результатів\n",
    "print(comparison)"
   ]
  },
  {
   "cell_type": "code",
   "execution_count": 8,
   "id": "063a989b-64cc-451c-af2b-0a05904c5966",
   "metadata": {},
   "outputs": [],
   "source": [
    "#person_home_ownership: Оренда житла є часто ознакою недоброякісних кредиторів.\n",
    "#loan_intent: Кредити на  бізнес-проекти ризиковані.Часто беруть недоброякісні кредитори.\n",
    "#loan_grade: C, D більш ризиковані.\n",
    "#cb_person_default_on_file: Позичальники з попередніми боргами частіше не виплачують кредити.\n",
    "#(person_income): У добросовісних позичальників  вищий дохід.\n",
    "#(person_emp_length): У добросовісних позичальників більший стаж роботи.\n",
    "#(loan_amnt): Недобросовісні позичальники, частіше беруть більші кредити.\n",
    "#(loan_percent_income): Недобросовісні позичальники витрачають значно більший відсотків свого доходу на погашення кредиту."
   ]
  },
  {
   "cell_type": "code",
   "execution_count": 9,
   "id": "7661f594-7a83-46a1-9d51-d65dceeea980",
   "metadata": {},
   "outputs": [],
   "source": [
    "#3 Виконайте попередню обробку даних"
   ]
  },
  {
   "cell_type": "code",
   "execution_count": 10,
   "id": "c33976f1-9224-4e5f-b257-5e53e200d4a0",
   "metadata": {},
   "outputs": [],
   "source": [
    "#Видалимо інші рядки ,де є пропуски.\n",
    "df.dropna(inplace=True)\n"
   ]
  },
  {
   "cell_type": "code",
   "execution_count": 11,
   "id": "c7e9f5ad-82f0-48f7-88d9-eaf849a45233",
   "metadata": {},
   "outputs": [
    {
     "name": "stdout",
     "output_type": "stream",
     "text": [
      "Кількість рядків після видалення викидів для стовпця person_age: 28371\n",
      "Кількість рядків після видалення викидів для стовпця person_income: 27871\n",
      "Кількість рядків після видалення викидів для стовпця person_emp_length: 27610\n",
      "Кількість рядків після видалення викидів для стовпця loan_amnt: 27108\n",
      "Кількість рядків після видалення викидів для стовпця loan_int_rate: 26847\n",
      "Кількість рядків після видалення викидів для стовпця loan_percent_income: 26318\n",
      "Кількість рядків після видалення викидів для стовпця cb_person_cred_hist_length: 26318\n",
      "<class 'pandas.core.frame.DataFrame'>\n",
      "Index: 26318 entries, 63 to 32295\n",
      "Data columns (total 12 columns):\n",
      " #   Column                      Non-Null Count  Dtype  \n",
      "---  ------                      --------------  -----  \n",
      " 0   person_age                  26318 non-null  int64  \n",
      " 1   person_income               26318 non-null  int64  \n",
      " 2   person_home_ownership       26318 non-null  object \n",
      " 3   person_emp_length           26318 non-null  float64\n",
      " 4   loan_intent                 26318 non-null  object \n",
      " 5   loan_grade                  26318 non-null  object \n",
      " 6   loan_amnt                   26318 non-null  int64  \n",
      " 7   loan_int_rate               26318 non-null  float64\n",
      " 8   loan_status                 26318 non-null  int64  \n",
      " 9   loan_percent_income         26318 non-null  float64\n",
      " 10  cb_person_default_on_file   26318 non-null  object \n",
      " 11  cb_person_cred_hist_length  26318 non-null  int64  \n",
      "dtypes: float64(3), int64(5), object(4)\n",
      "memory usage: 2.6+ MB\n"
     ]
    }
   ],
   "source": [
    "# Список стовпців, для яких потрібно видалити викиди\n",
    "columns_to_clean = [\n",
    "    'person_age', \n",
    "    'person_income', \n",
    "    'person_emp_length', \n",
    "    'loan_amnt', \n",
    "    'loan_int_rate', \n",
    "    'loan_percent_income', \n",
    "    'cb_person_cred_hist_length'\n",
    "]\n",
    "\n",
    "# Початковий DataFrame\n",
    "df = df.copy()  # Зробіть копію, якщо потрібно зберегти початкові дані\n",
    "\n",
    "# Очищення даних для кожного стовпця\n",
    "for column in columns_to_clean:\n",
    "    # Обчислюємо квантилі 1% та 99%\n",
    "    lower_bound = df[column].quantile(0.01)\n",
    "    upper_bound = df[column].quantile(0.99)\n",
    "    \n",
    "    # Фільтруємо дані з урахуванням пропусків (NaN)\n",
    "    df_cleaned = df[((df[column] >= lower_bound) & (df[column] <= upper_bound)) | (df[column].isna())]\n",
    "    \n",
    "    # Перевіряємо розмір нового DataFrame після видалення викидів\n",
    "    print(f'Кількість рядків після видалення викидів для стовпця {column}: {df_cleaned.shape[0]}')\n",
    "    \n",
    "    # Повертаємося до оновленого DataFrame\n",
    "    df = df_cleaned.copy()  # Зберігаємо очищений DataFrame\n",
    "\n",
    "# Огляд фінального очищеного DataFrame\n",
    "df.info()"
   ]
  },
  {
   "cell_type": "code",
   "execution_count": 12,
   "id": "dce9750b-7e29-4c8c-8e54-c6fc60a46b12",
   "metadata": {},
   "outputs": [
    {
     "name": "stdout",
     "output_type": "stream",
     "text": [
      "    person_age  person_income person_home_ownership  person_emp_length  \\\n",
      "63          25         221850              MORTGAGE                9.0   \n",
      "73          23          65000                  RENT                2.0   \n",
      "74          26          85000                  RENT                2.0   \n",
      "76          22          88000                  RENT                6.0   \n",
      "79          24          83004                  RENT                0.0   \n",
      "\n",
      "   loan_intent loan_grade  loan_amnt  loan_int_rate  loan_percent_income  \\\n",
      "63     MEDICAL          D      25000          15.70                 0.10   \n",
      "73   EDUCATION          A      28000           7.90                 0.43   \n",
      "74     VENTURE          A      28000           7.49                 0.33   \n",
      "76     VENTURE          B      28000           9.91                 0.32   \n",
      "79     VENTURE          D      28000          15.99                 0.34   \n",
      "\n",
      "   cb_person_default_on_file  cb_person_cred_hist_length  \n",
      "63                         N                           2  \n",
      "73                         N                           2  \n",
      "74                         N                           3  \n",
      "76                         N                           3  \n",
      "79                         Y                           4  \n",
      "63    1\n",
      "73    1\n",
      "74    1\n",
      "76    1\n",
      "79    1\n",
      "Name: loan_status, dtype: int64\n"
     ]
    }
   ],
   "source": [
    "#Визначимо матрицю незалежних змінних (факторів) та вектор залежної (цільової) змінної\n",
    "X = df.drop(df[['loan_status']], axis=1)\n",
    "print(X.head())\n",
    "y = df['loan_status']\n",
    "print(y.head())"
   ]
  },
  {
   "cell_type": "code",
   "execution_count": 13,
   "id": "d995465a-dbd5-482e-af22-c62eed6cda10",
   "metadata": {},
   "outputs": [],
   "source": [
    "# Вибираємо категоріальні стовпці в матриці незалежних змінних\n",
    "categorical_columns = X.select_dtypes(include=['object']).columns\n",
    "\n",
    "# Вибираємо кількісні ознаки (числові стовпці) в матриці незалежних змінних\n",
    "numeric_columns = X.select_dtypes(include=[float, int]).columns"
   ]
  },
  {
   "cell_type": "code",
   "execution_count": 14,
   "id": "7a7f8a3c-dcdb-4a4f-bcd3-c06ed1923655",
   "metadata": {},
   "outputs": [
    {
     "name": "stdout",
     "output_type": "stream",
     "text": [
      "    person_age  person_income  person_emp_length  loan_amnt  loan_int_rate  \\\n",
      "63          25         221850                9.0      25000          15.70   \n",
      "73          23          65000                2.0      28000           7.90   \n",
      "74          26          85000                2.0      28000           7.49   \n",
      "76          22          88000                6.0      28000           9.91   \n",
      "79          24          83004                0.0      28000          15.99   \n",
      "\n",
      "    loan_percent_income  cb_person_cred_hist_length  \\\n",
      "63                 0.10                           2   \n",
      "73                 0.43                           2   \n",
      "74                 0.33                           3   \n",
      "76                 0.32                           3   \n",
      "79                 0.34                           4   \n",
      "\n",
      "    person_home_ownership_OTHER  person_home_ownership_OWN  \\\n",
      "63                          0.0                        0.0   \n",
      "73                          0.0                        0.0   \n",
      "74                          0.0                        0.0   \n",
      "76                          0.0                        0.0   \n",
      "79                          0.0                        0.0   \n",
      "\n",
      "    person_home_ownership_RENT  ...  loan_intent_MEDICAL  \\\n",
      "63                         0.0  ...                  1.0   \n",
      "73                         1.0  ...                  0.0   \n",
      "74                         1.0  ...                  0.0   \n",
      "76                         1.0  ...                  0.0   \n",
      "79                         1.0  ...                  0.0   \n",
      "\n",
      "    loan_intent_PERSONAL  loan_intent_VENTURE  loan_grade_B  loan_grade_C  \\\n",
      "63                   0.0                  0.0           0.0           0.0   \n",
      "73                   0.0                  0.0           0.0           0.0   \n",
      "74                   0.0                  1.0           0.0           0.0   \n",
      "76                   0.0                  1.0           1.0           0.0   \n",
      "79                   0.0                  1.0           0.0           0.0   \n",
      "\n",
      "    loan_grade_D  loan_grade_E  loan_grade_F  loan_grade_G  \\\n",
      "63           1.0           0.0           0.0           0.0   \n",
      "73           0.0           0.0           0.0           0.0   \n",
      "74           0.0           0.0           0.0           0.0   \n",
      "76           0.0           0.0           0.0           0.0   \n",
      "79           1.0           0.0           0.0           0.0   \n",
      "\n",
      "    cb_person_default_on_file_Y  \n",
      "63                          0.0  \n",
      "73                          0.0  \n",
      "74                          0.0  \n",
      "76                          0.0  \n",
      "79                          1.0  \n",
      "\n",
      "[5 rows x 22 columns]\n"
     ]
    }
   ],
   "source": [
    "from sklearn.preprocessing import StandardScaler, OneHotEncoder\n",
    "# Імпортуємо клас OneHotEncoder з бібліотеки sklearn\n",
    "encoder = OneHotEncoder(sparse_output=False, drop='first')\n",
    "\n",
    "# Застосовуємо OneHotEncoder до категоріальних стовпців\n",
    "encoded_columns = encoder.fit_transform(X[categorical_columns])\n",
    "\n",
    "# Створюємо новий DataFrame з перекодованими змінними і назвами колонок\n",
    "encoded_X = pd.DataFrame(encoded_columns, columns=encoder.get_feature_names_out(categorical_columns), index=X.index)\n",
    "\n",
    "# Об'єднуємо початковий DataFrame з новими перекодованими стовпцями\n",
    "X = X.drop(columns=categorical_columns)  # Видаляємо оригінальні категоріальні стовпці\n",
    "X = pd.concat([X, encoded_X], axis=1)\n",
    "\n",
    "# Перевіряємо результати\n",
    "print(X.head())"
   ]
  },
  {
   "cell_type": "code",
   "execution_count": 15,
   "id": "6218ba32-5cc5-4220-b27c-0ac07fa7685c",
   "metadata": {},
   "outputs": [],
   "source": [
    "#Стандартизуємо матрицю Х\n",
    "from sklearn.preprocessing import StandardScaler\n",
    "sc = StandardScaler()\n",
    "\n",
    "scaler = StandardScaler()\n",
    "X_std = scaler.fit_transform(X)"
   ]
  },
  {
   "cell_type": "code",
   "execution_count": 16,
   "id": "eb3bd3cc-93d2-4971-847a-5421b8484060",
   "metadata": {},
   "outputs": [],
   "source": [
    "#4 Реалізуйте алгоритми логістичної регресії, найближчих сусідів (KNN) та опорних векторів (SVM) для класифікації позичальників банку перший алгоритм розглядала на лекції, другий, третій - на самостійне опрацювання).\n",
    "#Перевірте точність класифікаторів та обретіть найкращий із них для подальшої роботи.\n",
    "#Зробіть висновки: чи вдалося побудувати точний класифікатор; який із трьох розглянутих алгоритмів показав найкращі, а який найгірші результати?"
   ]
  },
  {
   "cell_type": "code",
   "execution_count": 17,
   "id": "efa0ebfc-9592-407d-9b9f-4d7d9e684608",
   "metadata": {},
   "outputs": [],
   "source": [
    "\n",
    "# імпортуємо train_test_split із модуля sklearn.model_selection\n",
    "from sklearn.model_selection import train_test_split\n",
    "\n",
    "#Розділимо дані на навчальну і тестову вибірки\n",
    "X_train, X_test, y_train, y_test = train_test_split(X_std, y, stratify = y, test_size=0.2, random_state=0)"
   ]
  },
  {
   "cell_type": "code",
   "execution_count": 18,
   "id": "4af9f2a1-af3e-4e95-b6c0-cd2a1d9b4c73",
   "metadata": {},
   "outputs": [],
   "source": [
    "# Імпортуємо необхідні бібліотеки\n",
    "from sklearn.linear_model import LogisticRegression\n",
    "from sklearn.neighbors import KNeighborsClassifier\n",
    "from sklearn.svm import SVC\n",
    "from sklearn.metrics import accuracy_score, confusion_matrix, ConfusionMatrixDisplay"
   ]
  },
  {
   "cell_type": "code",
   "execution_count": 19,
   "id": "1bd459ec-2d5f-42d0-948e-8789c5292d7f",
   "metadata": {},
   "outputs": [
    {
     "name": "stdout",
     "output_type": "stream",
     "text": [
      "Точність класифікації логістичної регресії на навчальній вибірці: 0.869\n",
      "Точність класифікації логістичної регресії на тестовій вибірці: 0.876\n"
     ]
    }
   ],
   "source": [
    "# 1. Логістична регресія\n",
    "log_reg = LogisticRegression()\n",
    "log_reg.fit(X_train, y_train)\n",
    "y_pred_train_log_reg = log_reg.predict(X_train)\n",
    "y_pred_test_log_reg = log_reg.predict(X_test)\n",
    "accuracy_train_log_reg = accuracy_score(y_train, y_pred_train_log_reg)\n",
    "accuracy_test_log_reg = accuracy_score(y_test, y_pred_test_log_reg)\n",
    "print(f\"Точність класифікації логістичної регресії на навчальній вибірці: {accuracy_train_log_reg:.3f}\")\n",
    "print(f\"Точність класифікації логістичної регресії на тестовій вибірці: {accuracy_test_log_reg:.3f}\")"
   ]
  },
  {
   "cell_type": "code",
   "execution_count": 20,
   "id": "e1259c3d-a299-4d7d-b7b3-887294f46f34",
   "metadata": {},
   "outputs": [
    {
     "data": {
      "image/png": "[encoded data removed]",
      "text/plain": [
       "<Figure size 640x480 with 2 Axes>"
      ]
     },
     "metadata": {},
     "output_type": "display_data"
    }
   ],
   "source": [
    "# Матриця помилок для тестової вибірки логістичної регресії\n",
    "cm_log_reg = confusion_matrix(y_test, y_pred_test_log_reg)\n",
    "cmd_log_reg = ConfusionMatrixDisplay(cm_log_reg, display_labels=['0', '1'])\n",
    "cmd_log_reg.plot()\n",
    "plt.title(\"Матриця помилок для логістичної регресії\")\n",
    "plt.show()"
   ]
  },
  {
   "cell_type": "code",
   "execution_count": 21,
   "id": "fdbb934f-4bd5-475c-814b-fbdc414f84b8",
   "metadata": {},
   "outputs": [
    {
     "name": "stdout",
     "output_type": "stream",
     "text": [
      "Точність класифікації KNN на навчальній вибірці: 0.919\n",
      "Точність класифікації KNN на тестовій вибірці: 0.901\n"
     ]
    }
   ],
   "source": [
    "# 2. Метод K найближчих сусідів (KNN)\n",
    "knn = KNeighborsClassifier(n_neighbors=5)\n",
    "knn.fit(X_train, y_train)\n",
    "\n",
    "# Прогнози та точність для навчальної і тестової вибірок\n",
    "y_pred_train_knn = knn.predict(X_train)\n",
    "y_pred_test_knn = knn.predict(X_test)\n",
    "accuracy_train_knn = accuracy_score(y_train, y_pred_train_knn)\n",
    "accuracy_test_knn = accuracy_score(y_test, y_pred_test_knn)\n",
    "\n",
    "print(f\"Точність класифікації KNN на навчальній вибірці: {accuracy_train_knn:.3f}\")\n",
    "print(f\"Точність класифікації KNN на тестовій вибірці: {accuracy_test_knn:.3f}\")"
   ]
  },
  {
   "cell_type": "code",
   "execution_count": 22,
   "id": "3a9748e2-6074-41c4-9008-ae3f14711f53",
   "metadata": {},
   "outputs": [
    {
     "data": {
      "image/png": "[encoded data removed]",
      "text/plain": [
       "<Figure size 640x480 with 2 Axes>"
      ]
     },
     "metadata": {},
     "output_type": "display_data"
    }
   ],
   "source": [
    "# Матриця помилок для тестової вибірки KNN\n",
    "cm_knn = confusion_matrix(y_test, y_pred_test_knn)\n",
    "cmd_knn = ConfusionMatrixDisplay(cm_knn, display_labels=['0', '1'])\n",
    "cmd_knn.plot()\n",
    "plt.title(\"Матриця помилок для KNN\")\n",
    "plt.show()"
   ]
  },
  {
   "cell_type": "code",
   "execution_count": 23,
   "id": "20698922-cb77-488f-b6b0-6e4e2f1f69be",
   "metadata": {},
   "outputs": [
    {
     "name": "stdout",
     "output_type": "stream",
     "text": [
      "Точність класифікації SVM на навчальній вибірці: 0.917\n",
      "Точність класифікації SVM на тестовій вибірці: 0.918\n"
     ]
    }
   ],
   "source": [
    "# 3. Метод опорних векторів (SVM)\n",
    "svm = SVC()\n",
    "svm.fit(X_train, y_train)\n",
    "\n",
    "# Прогнози та точність для навчальної і тестової вибірок\n",
    "y_pred_train_svm = svm.predict(X_train)\n",
    "y_pred_test_svm = svm.predict(X_test)\n",
    "accuracy_train_svm = accuracy_score(y_train, y_pred_train_svm)\n",
    "accuracy_test_svm = accuracy_score(y_test, y_pred_test_svm)\n",
    "\n",
    "print(f\"Точність класифікації SVM на навчальній вибірці: {accuracy_train_svm:.3f}\")\n",
    "print(f\"Точність класифікації SVM на тестовій вибірці: {accuracy_test_svm:.3f}\")"
   ]
  },
  {
   "cell_type": "code",
   "execution_count": 24,
   "id": "dee56db6-e7f3-4417-abd7-cb52b11cd938",
   "metadata": {},
   "outputs": [
    {
     "data": {
      "image/png": "[encoded data removed]",
      "text/plain": [
       "<Figure size 640x480 with 2 Axes>"
      ]
     },
     "metadata": {},
     "output_type": "display_data"
    }
   ],
   "source": [
    "# Матриця помилок для тестової вибірки SVM\n",
    "cm_svm = confusion_matrix(y_test, y_pred_test_svm)\n",
    "cmd_svm = ConfusionMatrixDisplay(cm_svm, display_labels=['0', '1'])\n",
    "cmd_svm.plot()\n",
    "plt.title(\"Матриця помилок для SVM\")\n",
    "plt.show()\n",
    "\n"
   ]
  },
  {
   "cell_type": "code",
   "execution_count": 25,
   "id": "da9e465d-b84d-4572-afae-22948efb0820",
   "metadata": {},
   "outputs": [],
   "source": [
    "#Найкращий класифікатор для подальшої роботи: SVM з точністю на тестовій вибірці 0.917\n",
    "#Найкращий класифікатор для подальшої роботи: SVM з точністю  на навчальній вибірці 0.918"
   ]
  },
  {
   "cell_type": "code",
   "execution_count": 26,
   "id": "633eab4d-5889-4be2-9676-48d7de2cb426",
   "metadata": {},
   "outputs": [],
   "source": [
    "#Найкращий класифікатор: Серед розглянутих моделей метод опорних векторів (SVM) досяг найвищої точності на тестовій вибірці, становлячи 0.918. \n",
    "#Це робить його безсумнівно найкращим класифікатором.\n",
    "\n",
    "#Найгірший результат: Логістична регресія показала найнижчу точність, яка склала 0.876 на тестовій вибірці.\n",
    "#Хоча цей показник залишається досить високим, він все ж поступається двом іншим моделям.\n",
    "\n",
    "#KNN: Метод K-найближчих сусідів досягнув точності 0.901 на тестовій вибірці. Це хороший результат, але він все ще дещо нижчий, ніж у SVM.\n",
    "\n",
    "#Висновок: Усі три класифікатори продемонстрували високу точність і можуть бути ефективно використані для вирішення даного завдання."
   ]
  },
  {
   "cell_type": "code",
   "execution_count": null,
   "id": "cf9d0e04-cdae-4898-8c4c-0c571fca6f6c",
   "metadata": {},
   "outputs": [],
   "source": [
    "# навчання SVM\n",
    "svm = SVC()  \n",
    "svm.fit(X_train, y_train) \n",
    "\n",
    "# Прогнозування\n",
    "y_pred_train_svm = svm.predict(X_train)  \n",
    "y_pred_test_svm = svm.predict(X_test)    "
   ]
  },
  {
   "cell_type": "code",
   "execution_count": null,
   "id": "456327bf-70e2-4369-a5e5-3041a6c3eed1",
   "metadata": {},
   "outputs": [],
   "source": [
    "#5 Необхідно прийняти рішення щодо видачі кредиту для нових позичальників, інформація про яких знаходиться в файлі 'give_refuse_a_loan.csv': спрогнозуйте значення цільової змінної та зробіть висновки яким позичальникам варто видати кредит, а яким - відмовити."
   ]
  },
  {
   "cell_type": "code",
   "execution_count": null,
   "id": "3f1cf1de-4fa2-4e96-be99-91e45b31f57e",
   "metadata": {},
   "outputs": [],
   "source": [
    "new_loan = pd.read_csv('give_refuse_a_loan.csv')\n",
    "new_loan"
   ]
  },
  {
   "cell_type": "code",
   "execution_count": null,
   "id": "2541e895-5673-436d-a9ea-459d44a494c4",
   "metadata": {},
   "outputs": [],
   "source": [
    "new_loan.info ()"
   ]
  },
  {
   "cell_type": "code",
   "execution_count": null,
   "id": "bbf47815-05bc-43b4-916b-b4470ca9677b",
   "metadata": {},
   "outputs": [],
   "source": [
    "# Видалення стовпця loan_status\n",
    "new_loan = new_loan.drop(columns=['loan_status'])"
   ]
  },
  {
   "cell_type": "code",
   "execution_count": null,
   "id": "3e22675c-143f-4901-9500-3c6723e6d018",
   "metadata": {},
   "outputs": [],
   "source": [
    "# Заповнення пропусків у стовпці loan_int_rate \n",
    "mean_int_rate = new_loan['loan_int_rate'].mean()\n",
    "new_loan['loan_int_rate'] = new_loan['loan_int_rate'].fillna(mean_int_rate)\n",
    "\n",
    "# Перевірка результату\n",
    "new_loan.info ()"
   ]
  },
  {
   "cell_type": "code",
   "execution_count": null,
   "id": "e896eb36-524e-4712-b355-5a358b25ed50",
   "metadata": {},
   "outputs": [],
   "source": [
    "# Створюємо OneHotEncoder та StandardScaler\n",
    "encoder = OneHotEncoder(sparse_output=False, drop='first')\n",
    "scaler = StandardScaler()\n",
    "\n",
    "\n",
    "# Перекодування категоріальних змінних\n",
    "encoded_columns = encoder.fit_transform(new_loan[categorical_columns])\n",
    "encoded_new_loan = pd.DataFrame(encoded_columns, columns=encoder.get_feature_names_out(categorical_columns), index=new_loan.index)\n",
    "\n",
    "# Видаляємо оригінальні категоріальні стовпці\n",
    "new_loan = new_loan.drop(columns=categorical_columns)\n",
    "new_loan = pd.concat([new_loan, encoded_new_loan], axis=1)"
   ]
  },
  {
   "cell_type": "code",
   "execution_count": null,
   "id": "c607d61c-5e57-4cc6-bbe7-e282774b8e69",
   "metadata": {},
   "outputs": [],
   "source": [
    "#Результат\n",
    "new_loan.info ()"
   ]
  },
  {
   "cell_type": "code",
   "execution_count": null,
   "id": "c76c4a69-8b00-443c-ab52-cfb1938f9a56",
   "metadata": {},
   "outputs": [],
   "source": [
    "from sklearn.preprocessing import StandardScaler\n",
    "\n",
    "# Ініціалізуємо StandardScaler\n",
    "scaler = StandardScaler()\n",
    "\n",
    "X_std = scaler.fit_transform(X)  \n",
    "X_new = scaler.transform(new_loan)  \n"
   ]
  },
  {
   "cell_type": "code",
   "execution_count": null,
   "id": "911fee4f-d3ce-4b92-a51b-b08375109b72",
   "metadata": {},
   "outputs": [],
   "source": [
    "# Прогноз \n",
    "y_pred_new = svm.predict(X_new)\n",
    "\n",
    "# Додаємо спрогнозовані значення цільової змінної до датафрейму new_companies\n",
    "new_loan['loan_Predicted'] = y_pred_new\n",
    "\n",
    "# Переглядаємо результати\n",
    "print(new_loan.head(20))"
   ]
  },
  {
   "cell_type": "code",
   "execution_count": null,
   "id": "9c674066-50b5-4a8f-9726-df269dbdbad6",
   "metadata": {},
   "outputs": [],
   "source": [
    "#На основі аналізу, серед усіх заявок було виявлено лише чотири потенційно ризикових клієнти, яким краще відмовити у видачі кредитів."
   ]
  },
  {
   "cell_type": "code",
   "execution_count": null,
   "id": "ab1fb9c0-976e-4677-b1e7-71aa79e153c3",
   "metadata": {},
   "outputs": [],
   "source": []
  }
 ],
 "metadata": {
  "kernelspec": {
   "display_name": "Python 3 (ipykernel)",
   "language": "python",
   "name": "python3"
  },
  "language_info": {
   "codemirror_mode": {
    "name": "ipython",
    "version": 3
   },
   "file_extension": ".py",
   "mimetype": "text/x-python",
   "name": "python",
   "nbconvert_exporter": "python",
   "pygments_lexer": "ipython3",
   "version": "3.12.4"
  }
 },
 "nbformat": 4,
 "nbformat_minor": 5
}
