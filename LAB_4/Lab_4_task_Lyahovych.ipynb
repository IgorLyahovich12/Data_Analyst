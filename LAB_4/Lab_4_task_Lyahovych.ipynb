{
 "cells": [
  {
   "cell_type": "markdown",
   "id": "0304aebb",
   "metadata": {},
   "source": [
    "## Завдання ЛР 4\n",
    "\n",
    "У цій роботі ви спробуєте навчити класифікатор класифікувати позичальників банку на добросовісних (ті, що вчасно повернуть кредит) та недобросовісних (ті, що не повернуть кредит або повернуть невчасно) на основі набору характеристик позичальників банку."
   ]
  },
  {
   "cell_type": "code",
   "execution_count": 1,
   "id": "74dcbb31",
   "metadata": {},
   "outputs": [
    {
     "data": {
      "text/html": [
       "<div>\n",
       "<style scoped>\n",
       "    .dataframe tbody tr th:only-of-type {\n",
       "        vertical-align: middle;\n",
       "    }\n",
       "\n",
       "    .dataframe tbody tr th {\n",
       "        vertical-align: top;\n",
       "    }\n",
       "\n",
       "    .dataframe thead th {\n",
       "        text-align: right;\n",
       "    }\n",
       "</style>\n",
       "<table border=\"1\" class=\"dataframe\">\n",
       "  <thead>\n",
       "    <tr style=\"text-align: right;\">\n",
       "      <th></th>\n",
       "      <th>person_age</th>\n",
       "      <th>person_income</th>\n",
       "      <th>person_home_ownership</th>\n",
       "      <th>person_emp_length</th>\n",
       "      <th>loan_intent</th>\n",
       "      <th>loan_grade</th>\n",
       "      <th>loan_amnt</th>\n",
       "      <th>loan_int_rate</th>\n",
       "      <th>loan_status</th>\n",
       "      <th>loan_percent_income</th>\n",
       "      <th>cb_person_default_on_file</th>\n",
       "      <th>cb_person_cred_hist_length</th>\n",
       "    </tr>\n",
       "  </thead>\n",
       "  <tbody>\n",
       "    <tr>\n",
       "      <th>0</th>\n",
       "      <td>22</td>\n",
       "      <td>59000</td>\n",
       "      <td>RENT</td>\n",
       "      <td>123.0</td>\n",
       "      <td>PERSONAL</td>\n",
       "      <td>D</td>\n",
       "      <td>35000</td>\n",
       "      <td>16.02</td>\n",
       "      <td>1</td>\n",
       "      <td>0.59</td>\n",
       "      <td>Y</td>\n",
       "      <td>3</td>\n",
       "    </tr>\n",
       "    <tr>\n",
       "      <th>1</th>\n",
       "      <td>21</td>\n",
       "      <td>9600</td>\n",
       "      <td>OWN</td>\n",
       "      <td>5.0</td>\n",
       "      <td>EDUCATION</td>\n",
       "      <td>B</td>\n",
       "      <td>1000</td>\n",
       "      <td>11.14</td>\n",
       "      <td>0</td>\n",
       "      <td>0.10</td>\n",
       "      <td>N</td>\n",
       "      <td>2</td>\n",
       "    </tr>\n",
       "    <tr>\n",
       "      <th>2</th>\n",
       "      <td>25</td>\n",
       "      <td>9600</td>\n",
       "      <td>MORTGAGE</td>\n",
       "      <td>1.0</td>\n",
       "      <td>MEDICAL</td>\n",
       "      <td>C</td>\n",
       "      <td>5500</td>\n",
       "      <td>12.87</td>\n",
       "      <td>1</td>\n",
       "      <td>0.57</td>\n",
       "      <td>N</td>\n",
       "      <td>3</td>\n",
       "    </tr>\n",
       "    <tr>\n",
       "      <th>3</th>\n",
       "      <td>23</td>\n",
       "      <td>65500</td>\n",
       "      <td>RENT</td>\n",
       "      <td>4.0</td>\n",
       "      <td>MEDICAL</td>\n",
       "      <td>C</td>\n",
       "      <td>35000</td>\n",
       "      <td>15.23</td>\n",
       "      <td>1</td>\n",
       "      <td>0.53</td>\n",
       "      <td>N</td>\n",
       "      <td>2</td>\n",
       "    </tr>\n",
       "    <tr>\n",
       "      <th>4</th>\n",
       "      <td>24</td>\n",
       "      <td>54400</td>\n",
       "      <td>RENT</td>\n",
       "      <td>8.0</td>\n",
       "      <td>MEDICAL</td>\n",
       "      <td>C</td>\n",
       "      <td>35000</td>\n",
       "      <td>14.27</td>\n",
       "      <td>1</td>\n",
       "      <td>0.55</td>\n",
       "      <td>Y</td>\n",
       "      <td>4</td>\n",
       "    </tr>\n",
       "    <tr>\n",
       "      <th>5</th>\n",
       "      <td>21</td>\n",
       "      <td>9900</td>\n",
       "      <td>OWN</td>\n",
       "      <td>2.0</td>\n",
       "      <td>VENTURE</td>\n",
       "      <td>A</td>\n",
       "      <td>2500</td>\n",
       "      <td>7.14</td>\n",
       "      <td>1</td>\n",
       "      <td>0.25</td>\n",
       "      <td>N</td>\n",
       "      <td>2</td>\n",
       "    </tr>\n",
       "    <tr>\n",
       "      <th>6</th>\n",
       "      <td>26</td>\n",
       "      <td>77100</td>\n",
       "      <td>RENT</td>\n",
       "      <td>8.0</td>\n",
       "      <td>EDUCATION</td>\n",
       "      <td>B</td>\n",
       "      <td>35000</td>\n",
       "      <td>12.42</td>\n",
       "      <td>1</td>\n",
       "      <td>0.45</td>\n",
       "      <td>N</td>\n",
       "      <td>3</td>\n",
       "    </tr>\n",
       "    <tr>\n",
       "      <th>7</th>\n",
       "      <td>24</td>\n",
       "      <td>78956</td>\n",
       "      <td>RENT</td>\n",
       "      <td>5.0</td>\n",
       "      <td>MEDICAL</td>\n",
       "      <td>B</td>\n",
       "      <td>35000</td>\n",
       "      <td>11.11</td>\n",
       "      <td>1</td>\n",
       "      <td>0.44</td>\n",
       "      <td>N</td>\n",
       "      <td>4</td>\n",
       "    </tr>\n",
       "    <tr>\n",
       "      <th>8</th>\n",
       "      <td>24</td>\n",
       "      <td>83000</td>\n",
       "      <td>RENT</td>\n",
       "      <td>8.0</td>\n",
       "      <td>PERSONAL</td>\n",
       "      <td>A</td>\n",
       "      <td>35000</td>\n",
       "      <td>8.90</td>\n",
       "      <td>1</td>\n",
       "      <td>0.42</td>\n",
       "      <td>N</td>\n",
       "      <td>2</td>\n",
       "    </tr>\n",
       "    <tr>\n",
       "      <th>9</th>\n",
       "      <td>21</td>\n",
       "      <td>10000</td>\n",
       "      <td>OWN</td>\n",
       "      <td>6.0</td>\n",
       "      <td>VENTURE</td>\n",
       "      <td>D</td>\n",
       "      <td>1600</td>\n",
       "      <td>14.74</td>\n",
       "      <td>1</td>\n",
       "      <td>0.16</td>\n",
       "      <td>N</td>\n",
       "      <td>3</td>\n",
       "    </tr>\n",
       "  </tbody>\n",
       "</table>\n",
       "</div>"
      ],
      "text/plain": [
       "   person_age  person_income person_home_ownership  person_emp_length  \\\n",
       "0          22          59000                  RENT              123.0   \n",
       "1          21           9600                   OWN                5.0   \n",
       "2          25           9600              MORTGAGE                1.0   \n",
       "3          23          65500                  RENT                4.0   \n",
       "4          24          54400                  RENT                8.0   \n",
       "5          21           9900                   OWN                2.0   \n",
       "6          26          77100                  RENT                8.0   \n",
       "7          24          78956                  RENT                5.0   \n",
       "8          24          83000                  RENT                8.0   \n",
       "9          21          10000                   OWN                6.0   \n",
       "\n",
       "  loan_intent loan_grade  loan_amnt  loan_int_rate  loan_status  \\\n",
       "0    PERSONAL          D      35000          16.02            1   \n",
       "1   EDUCATION          B       1000          11.14            0   \n",
       "2     MEDICAL          C       5500          12.87            1   \n",
       "3     MEDICAL          C      35000          15.23            1   \n",
       "4     MEDICAL          C      35000          14.27            1   \n",
       "5     VENTURE          A       2500           7.14            1   \n",
       "6   EDUCATION          B      35000          12.42            1   \n",
       "7     MEDICAL          B      35000          11.11            1   \n",
       "8    PERSONAL          A      35000           8.90            1   \n",
       "9     VENTURE          D       1600          14.74            1   \n",
       "\n",
       "   loan_percent_income cb_person_default_on_file  cb_person_cred_hist_length  \n",
       "0                 0.59                         Y                           3  \n",
       "1                 0.10                         N                           2  \n",
       "2                 0.57                         N                           3  \n",
       "3                 0.53                         N                           2  \n",
       "4                 0.55                         Y                           4  \n",
       "5                 0.25                         N                           2  \n",
       "6                 0.45                         N                           3  \n",
       "7                 0.44                         N                           4  \n",
       "8                 0.42                         N                           2  \n",
       "9                 0.16                         N                           3  "
      ]
     },
     "execution_count": 1,
     "metadata": {},
     "output_type": "execute_result"
    }
   ],
   "source": [
    "#імпортуємо необхідні бібліотеки\n",
    "import numpy as np\n",
    "import pandas as pd \n",
    "import matplotlib.pyplot as plt\n",
    "import seaborn as sns\n",
    "df = pd.read_csv('credit_default.csv')\n",
    "df.head(10)"
   ]
  },
  {
   "cell_type": "code",
   "execution_count": 2,
   "id": "9b0a264e",
   "metadata": {},
   "outputs": [
    {
     "name": "stdout",
     "output_type": "stream",
     "text": [
      "<class 'pandas.core.frame.DataFrame'>\n",
      "RangeIndex: 32581 entries, 0 to 32580\n",
      "Data columns (total 12 columns):\n",
      " #   Column                      Non-Null Count  Dtype  \n",
      "---  ------                      --------------  -----  \n",
      " 0   person_age                  32581 non-null  int64  \n",
      " 1   person_income               32581 non-null  int64  \n",
      " 2   person_home_ownership       32581 non-null  object \n",
      " 3   person_emp_length           31686 non-null  float64\n",
      " 4   loan_intent                 32581 non-null  object \n",
      " 5   loan_grade                  32581 non-null  object \n",
      " 6   loan_amnt                   32581 non-null  int64  \n",
      " 7   loan_int_rate               29465 non-null  float64\n",
      " 8   loan_status                 32581 non-null  int64  \n",
      " 9   loan_percent_income         32581 non-null  float64\n",
      " 10  cb_person_default_on_file   32581 non-null  object \n",
      " 11  cb_person_cred_hist_length  32581 non-null  int64  \n",
      "dtypes: float64(3), int64(5), object(4)\n",
      "memory usage: 3.0+ MB\n"
     ]
    }
   ],
   "source": [
    "df.info()"
   ]
  },
  {
   "cell_type": "code",
   "execution_count": 3,
   "id": "f070d21e-23e4-4fa6-a0a3-e5a5b139b5ed",
   "metadata": {},
   "outputs": [
    {
     "data": {
      "text/html": [
       "<div>\n",
       "<style scoped>\n",
       "    .dataframe tbody tr th:only-of-type {\n",
       "        vertical-align: middle;\n",
       "    }\n",
       "\n",
       "    .dataframe tbody tr th {\n",
       "        vertical-align: top;\n",
       "    }\n",
       "\n",
       "    .dataframe thead th {\n",
       "        text-align: right;\n",
       "    }\n",
       "</style>\n",
       "<table border=\"1\" class=\"dataframe\">\n",
       "  <thead>\n",
       "    <tr style=\"text-align: right;\">\n",
       "      <th></th>\n",
       "      <th>person_age</th>\n",
       "      <th>person_income</th>\n",
       "      <th>person_emp_length</th>\n",
       "      <th>loan_amnt</th>\n",
       "      <th>loan_int_rate</th>\n",
       "      <th>loan_status</th>\n",
       "      <th>loan_percent_income</th>\n",
       "      <th>cb_person_cred_hist_length</th>\n",
       "    </tr>\n",
       "  </thead>\n",
       "  <tbody>\n",
       "    <tr>\n",
       "      <th>count</th>\n",
       "      <td>32581.000000</td>\n",
       "      <td>3.258100e+04</td>\n",
       "      <td>31686.000000</td>\n",
       "      <td>32581.000000</td>\n",
       "      <td>29465.000000</td>\n",
       "      <td>32581.000000</td>\n",
       "      <td>32581.000000</td>\n",
       "      <td>32581.000000</td>\n",
       "    </tr>\n",
       "    <tr>\n",
       "      <th>mean</th>\n",
       "      <td>27.734600</td>\n",
       "      <td>6.607485e+04</td>\n",
       "      <td>4.789686</td>\n",
       "      <td>9589.371106</td>\n",
       "      <td>11.011695</td>\n",
       "      <td>0.218164</td>\n",
       "      <td>0.170203</td>\n",
       "      <td>5.804211</td>\n",
       "    </tr>\n",
       "    <tr>\n",
       "      <th>std</th>\n",
       "      <td>6.348078</td>\n",
       "      <td>6.198312e+04</td>\n",
       "      <td>4.142630</td>\n",
       "      <td>6322.086646</td>\n",
       "      <td>3.240459</td>\n",
       "      <td>0.413006</td>\n",
       "      <td>0.106782</td>\n",
       "      <td>4.055001</td>\n",
       "    </tr>\n",
       "    <tr>\n",
       "      <th>min</th>\n",
       "      <td>20.000000</td>\n",
       "      <td>4.000000e+03</td>\n",
       "      <td>0.000000</td>\n",
       "      <td>500.000000</td>\n",
       "      <td>5.420000</td>\n",
       "      <td>0.000000</td>\n",
       "      <td>0.000000</td>\n",
       "      <td>2.000000</td>\n",
       "    </tr>\n",
       "    <tr>\n",
       "      <th>25%</th>\n",
       "      <td>23.000000</td>\n",
       "      <td>3.850000e+04</td>\n",
       "      <td>2.000000</td>\n",
       "      <td>5000.000000</td>\n",
       "      <td>7.900000</td>\n",
       "      <td>0.000000</td>\n",
       "      <td>0.090000</td>\n",
       "      <td>3.000000</td>\n",
       "    </tr>\n",
       "    <tr>\n",
       "      <th>50%</th>\n",
       "      <td>26.000000</td>\n",
       "      <td>5.500000e+04</td>\n",
       "      <td>4.000000</td>\n",
       "      <td>8000.000000</td>\n",
       "      <td>10.990000</td>\n",
       "      <td>0.000000</td>\n",
       "      <td>0.150000</td>\n",
       "      <td>4.000000</td>\n",
       "    </tr>\n",
       "    <tr>\n",
       "      <th>75%</th>\n",
       "      <td>30.000000</td>\n",
       "      <td>7.920000e+04</td>\n",
       "      <td>7.000000</td>\n",
       "      <td>12200.000000</td>\n",
       "      <td>13.470000</td>\n",
       "      <td>0.000000</td>\n",
       "      <td>0.230000</td>\n",
       "      <td>8.000000</td>\n",
       "    </tr>\n",
       "    <tr>\n",
       "      <th>max</th>\n",
       "      <td>144.000000</td>\n",
       "      <td>6.000000e+06</td>\n",
       "      <td>123.000000</td>\n",
       "      <td>35000.000000</td>\n",
       "      <td>23.220000</td>\n",
       "      <td>1.000000</td>\n",
       "      <td>0.830000</td>\n",
       "      <td>30.000000</td>\n",
       "    </tr>\n",
       "  </tbody>\n",
       "</table>\n",
       "</div>"
      ],
      "text/plain": [
       "         person_age  person_income  person_emp_length     loan_amnt  \\\n",
       "count  32581.000000   3.258100e+04       31686.000000  32581.000000   \n",
       "mean      27.734600   6.607485e+04           4.789686   9589.371106   \n",
       "std        6.348078   6.198312e+04           4.142630   6322.086646   \n",
       "min       20.000000   4.000000e+03           0.000000    500.000000   \n",
       "25%       23.000000   3.850000e+04           2.000000   5000.000000   \n",
       "50%       26.000000   5.500000e+04           4.000000   8000.000000   \n",
       "75%       30.000000   7.920000e+04           7.000000  12200.000000   \n",
       "max      144.000000   6.000000e+06         123.000000  35000.000000   \n",
       "\n",
       "       loan_int_rate   loan_status  loan_percent_income  \\\n",
       "count   29465.000000  32581.000000         32581.000000   \n",
       "mean       11.011695      0.218164             0.170203   \n",
       "std         3.240459      0.413006             0.106782   \n",
       "min         5.420000      0.000000             0.000000   \n",
       "25%         7.900000      0.000000             0.090000   \n",
       "50%        10.990000      0.000000             0.150000   \n",
       "75%        13.470000      0.000000             0.230000   \n",
       "max        23.220000      1.000000             0.830000   \n",
       "\n",
       "       cb_person_cred_hist_length  \n",
       "count                32581.000000  \n",
       "mean                     5.804211  \n",
       "std                      4.055001  \n",
       "min                      2.000000  \n",
       "25%                      3.000000  \n",
       "50%                      4.000000  \n",
       "75%                      8.000000  \n",
       "max                     30.000000  "
      ]
     },
     "execution_count": 3,
     "metadata": {},
     "output_type": "execute_result"
    }
   ],
   "source": [
    "df.describe ()"
   ]
  },
  {
   "cell_type": "code",
   "execution_count": 4,
   "id": "b432a702-7877-4b30-b7f7-cc82cfd13223",
   "metadata": {},
   "outputs": [],
   "source": [
    "#Датафрейм df містить 32,581 запис про клієнтів і 12 стовпців. Це дані про персональні характеристики клієнтів, їх фінансовий стан,\n",
    "#а також деякі параметри взятих ними кредитів."
   ]
  },
  {
   "cell_type": "markdown",
   "id": "d9230f71",
   "metadata": {},
   "source": [
    "### Опис датафрейму  \n",
    "Цей набір даних містить інформацію про 32581 позичальників банку:  \n",
    "**person_age** - вік позичальника  \n",
    "**person_income** - річний дохід позичальника     \n",
    "**person_home_ownership** - житло: орендує, виплачує іпотеку, власне житло     \n",
    "**person_emp_length** - стаж роботи      \n",
    "**loan_intent** - призначення кредиту: навчання, лікування і т.д.  \n",
    "**loan_grade** - кредитний рейтинг       \n",
    "**loan_amnt** - розмір кредиту     \n",
    "**loanintrate** - відсоткова ставка по кредиту  \n",
    "**loan_status - статус кредиту (0 сплачено, 1 - не сплачено) ЦІЛЬОВА ЗМІННА**     \n",
    "**loan_percent_income** - розмір кредитного платежу у % до доходу   \n",
    "**cb_person_default_on_file** - кредитна історія   \n",
    "**cb_preson_cred_hist_length** - тривалість кредитної історії"
   ]
  },
  {
   "cell_type": "markdown",
   "id": "a035d0db",
   "metadata": {},
   "source": [
    "### Завдання\n",
    "1. Подивіться на датасет: .head (), .info (), .dtypes, .describe ()  \n",
    "2. Для кращого розуміння даних порівняйте характеристики добросовісних та недобросовісних позичальників, **зробіть відповідні висновки**  \n",
    "3. Виконайте попередню обробку даних  \n",
    "4. Реалізуйте алгоритми логістичної регресії, найближчих сусідів (KNN) та опорних векторів (SVM) для класифікації позичальників банку (<span style=\"color:red\"> перший алгоритм розглядала на лекції, другий, третій - на самостійне опрацювання</span>). Перевірте точність класифікаторів та обретіть найкращий із них для подальшої роботи. **Зробіть висновки: чи вдалося побудувати точний класифікатор; який із трьох розглянутих алгоритмів показав найкращі, а який найгірші результати?**  \n",
    "5. Необхідно прийняти рішення щодо видачі кредиту  для нових позичальників, інформація про яких знаходиться в файлі 'give_refuse_a_loan.csv': спрогнозуйте значення цільової змінної та **зробіть висновки яким позичальникам варто видати кредит, а яким - відмовити.**"
   ]
  },
  {
   "cell_type": "code",
   "execution_count": 5,
   "id": "2d9ed7aa",
   "metadata": {},
   "outputs": [
    {
     "name": "stdout",
     "output_type": "stream",
     "text": [
      "<class 'pandas.core.frame.DataFrame'>\n",
      "RangeIndex: 32581 entries, 0 to 32580\n",
      "Data columns (total 12 columns):\n",
      " #   Column                      Non-Null Count  Dtype  \n",
      "---  ------                      --------------  -----  \n",
      " 0   person_age                  32581 non-null  int64  \n",
      " 1   person_income               32581 non-null  int64  \n",
      " 2   person_home_ownership       32581 non-null  object \n",
      " 3   person_emp_length           31686 non-null  float64\n",
      " 4   loan_intent                 32581 non-null  object \n",
      " 5   loan_grade                  32581 non-null  object \n",
      " 6   loan_amnt                   32581 non-null  int64  \n",
      " 7   loan_int_rate               29465 non-null  float64\n",
      " 8   loan_status                 32581 non-null  int64  \n",
      " 9   loan_percent_income         32581 non-null  float64\n",
      " 10  cb_person_default_on_file   32581 non-null  object \n",
      " 11  cb_person_cred_hist_length  32581 non-null  int64  \n",
      "dtypes: float64(3), int64(5), object(4)\n",
      "memory usage: 3.0+ MB\n"
     ]
    }
   ],
   "source": [
    "df.info ()"
   ]
  },
  {
   "cell_type": "code",
   "execution_count": 6,
   "id": "e186dddf",
   "metadata": {},
   "outputs": [],
   "source": [
    "#(int64):\n",
    "#person_age \n",
    "#person_income\n",
    "#loan_amnt\n",
    "#loan_status\n",
    "#cb_person_cred_hist_length\n",
    "#(float64):\n",
    "#person_emp_length\n",
    "#loan_int_rate\n",
    "#loan_percent_income\n",
    "#(object):\n",
    "#person_home_ownership\n",
    "#loan_intent\n",
    "#loan_grade\n",
    "#cb_person_default_on_file\n",
    "#person_emp_length — 895 пропущених значень.\n",
    "#loan_int_rate — 3116 пропущених значень."
   ]
  },
  {
   "cell_type": "code",
   "execution_count": 7,
   "id": "5edc624b-c06a-47b8-8d00-2511bdb1c19a",
   "metadata": {},
   "outputs": [],
   "source": [
    "#2 Для кращого розуміння даних порівняйте характеристики добросовісних та недобросовісних позичальників, зробіть відповідні висновки\n",
    "#(object):\n",
    "#person_home_ownership: Оренда пов’язана з вищим ризиком, власне житло або іпотека — з більшою стабільністю.\n",
    "\n",
    "#loan_intent: Кредити на навчання частіше виплачуються, а на особисті потреби, медицину та бізнес-проекти — більш ризиковані.\n",
    "\n",
    "#loan_grade: Вищий рейтинг (A, B) асоціюється з добросовісністю; середній і низький (C, D) — з вищим ризиком.\n",
    "\n",
    "#cb_person_default_on_file: Позичальники з попередніми боргами (Y) частіше не виплачують кредити."
   ]
  },
  {
   "cell_type": "code",
   "execution_count": 8,
   "id": "741dfa32-ad12-49b6-a627-aa0ccef3f3c2",
   "metadata": {},
   "outputs": [],
   "source": [
    "# Поділ на групи за статусом кредиту\n",
    "good_borrowers = df[df['loan_status'] == 0]\n",
    "bad_borrowers = df[df['loan_status'] == 1]\n",
    "\n",
    "# Розрахунок середніх значень для кожної характеристики\n",
    "good_avg = good_borrowers.mean(numeric_only=True)\n",
    "bad_avg = bad_borrowers.mean(numeric_only=True)"
   ]
  },
  {
   "cell_type": "code",
   "execution_count": 9,
   "id": "ac557dc6-064d-407c-a4dd-f980c2ee5c81",
   "metadata": {},
   "outputs": [
    {
     "name": "stdout",
     "output_type": "stream",
     "text": [
      "                            Good Borrowers  Bad Borrowers\n",
      "person_age                       27.807129      27.474676\n",
      "person_income                 70804.361559   49125.652223\n",
      "person_emp_length                 4.968745       4.137562\n",
      "loan_amnt                      9237.464178   10850.502954\n",
      "loan_int_rate                    10.435999      13.060207\n",
      "loan_status                       0.000000       1.000000\n",
      "loan_percent_income               0.148805       0.246889\n",
      "cb_person_cred_hist_length        5.837475       5.685003\n"
     ]
    }
   ],
   "source": [
    "# Порівняння результатів\n",
    "comparison = pd.DataFrame({'Good Borrowers': good_avg, 'Bad Borrowers': bad_avg})\n",
    "\n",
    "# Вивід результатів\n",
    "print(comparison)"
   ]
  },
  {
   "cell_type": "code",
   "execution_count": 10,
   "id": "d35728da-486a-4b58-ac8a-9bb90eb01189",
   "metadata": {},
   "outputs": [],
   "source": [
    "#(person_age): Добросовісні позичальники дещо старші, але різниця незначна.\n",
    "\n",
    "#(person_income): Добросовісні позичальники мають значно вищий дохід.\n",
    "\n",
    "#(person_emp_length): Добросовісні позичальники мають більший стаж роботи.\n",
    "\n",
    "#(loan_amnt): Недобросовісні позичальники, в середньому, беруть більші кредити.\n",
    "\n",
    "#(loan_int_rate): Недобросовісні позичальники отримують кредити під вищу відсоткову ставку.\n",
    "\n",
    "#(loan_percent_income): Недобросовісні позичальники витрачають більше відсотків свого доходу на погашення кредиту.\n",
    "\n",
    "#(cb_person_cred_hist_length): Добросовісні позичальники мають трохи довшу кредитну історію, але різниця невелика."
   ]
  },
  {
   "cell_type": "code",
   "execution_count": 11,
   "id": "aa0fffcd-69a8-4440-80db-9ff9cc8ea7d3",
   "metadata": {},
   "outputs": [],
   "source": [
    "#3 Виконайте попередню обробку даних"
   ]
  },
  {
   "cell_type": "code",
   "execution_count": 12,
   "id": "d2042266-0df8-4cf2-a899-88b2e3457ea5",
   "metadata": {},
   "outputs": [],
   "source": [
    "#Видалимо інші рядки ,де є пропуски.\n",
    "df.dropna(inplace=True)"
   ]
  },
  {
   "cell_type": "code",
   "execution_count": 13,
   "id": "f4a93e95-4b6c-497f-ba4f-604439a88056",
   "metadata": {},
   "outputs": [
    {
     "name": "stdout",
     "output_type": "stream",
     "text": [
      "<class 'pandas.core.frame.DataFrame'>\n",
      "Index: 28638 entries, 0 to 32580\n",
      "Data columns (total 12 columns):\n",
      " #   Column                      Non-Null Count  Dtype  \n",
      "---  ------                      --------------  -----  \n",
      " 0   person_age                  28638 non-null  int64  \n",
      " 1   person_income               28638 non-null  int64  \n",
      " 2   person_home_ownership       28638 non-null  object \n",
      " 3   person_emp_length           28638 non-null  float64\n",
      " 4   loan_intent                 28638 non-null  object \n",
      " 5   loan_grade                  28638 non-null  object \n",
      " 6   loan_amnt                   28638 non-null  int64  \n",
      " 7   loan_int_rate               28638 non-null  float64\n",
      " 8   loan_status                 28638 non-null  int64  \n",
      " 9   loan_percent_income         28638 non-null  float64\n",
      " 10  cb_person_default_on_file   28638 non-null  object \n",
      " 11  cb_person_cred_hist_length  28638 non-null  int64  \n",
      "dtypes: float64(3), int64(5), object(4)\n",
      "memory usage: 2.8+ MB\n"
     ]
    }
   ],
   "source": [
    "df.info ()"
   ]
  },
  {
   "cell_type": "code",
   "execution_count": 14,
   "id": "84477a2e-bc89-4449-b4fe-18a464355ca6",
   "metadata": {},
   "outputs": [
    {
     "name": "stdout",
     "output_type": "stream",
     "text": [
      "Кількість рядків після видалення викидів для стовпця person_age: 28371\n",
      "Кількість рядків після видалення викидів для стовпця person_income: 27871\n",
      "Кількість рядків після видалення викидів для стовпця person_emp_length: 27610\n",
      "Кількість рядків після видалення викидів для стовпця loan_amnt: 27108\n",
      "Кількість рядків після видалення викидів для стовпця loan_int_rate: 26847\n",
      "Кількість рядків після видалення викидів для стовпця loan_percent_income: 26318\n",
      "Кількість рядків після видалення викидів для стовпця cb_person_cred_hist_length: 26318\n",
      "<class 'pandas.core.frame.DataFrame'>\n",
      "Index: 26318 entries, 63 to 32295\n",
      "Data columns (total 12 columns):\n",
      " #   Column                      Non-Null Count  Dtype  \n",
      "---  ------                      --------------  -----  \n",
      " 0   person_age                  26318 non-null  int64  \n",
      " 1   person_income               26318 non-null  int64  \n",
      " 2   person_home_ownership       26318 non-null  object \n",
      " 3   person_emp_length           26318 non-null  float64\n",
      " 4   loan_intent                 26318 non-null  object \n",
      " 5   loan_grade                  26318 non-null  object \n",
      " 6   loan_amnt                   26318 non-null  int64  \n",
      " 7   loan_int_rate               26318 non-null  float64\n",
      " 8   loan_status                 26318 non-null  int64  \n",
      " 9   loan_percent_income         26318 non-null  float64\n",
      " 10  cb_person_default_on_file   26318 non-null  object \n",
      " 11  cb_person_cred_hist_length  26318 non-null  int64  \n",
      "dtypes: float64(3), int64(5), object(4)\n",
      "memory usage: 2.6+ MB\n"
     ]
    }
   ],
   "source": [
    "# Список стовпців, для яких потрібно видалити викиди\n",
    "columns_to_clean = [\n",
    "    'person_age', \n",
    "    'person_income', \n",
    "    'person_emp_length', \n",
    "    'loan_amnt', \n",
    "    'loan_int_rate', \n",
    "    'loan_percent_income', \n",
    "    'cb_person_cred_hist_length'\n",
    "]\n",
    "\n",
    "# Початковий DataFrame\n",
    "df = df.copy()  # Зробіть копію, якщо потрібно зберегти початкові дані\n",
    "\n",
    "# Очищення даних для кожного стовпця\n",
    "for column in columns_to_clean:\n",
    "    # Обчислюємо квантилі 1% та 99%\n",
    "    lower_bound = df[column].quantile(0.01)\n",
    "    upper_bound = df[column].quantile(0.99)\n",
    "    \n",
    "    # Фільтруємо дані з урахуванням пропусків (NaN)\n",
    "    df_cleaned = df[((df[column] >= lower_bound) & (df[column] <= upper_bound)) | (df[column].isna())]\n",
    "    \n",
    "    # Перевіряємо розмір нового DataFrame після видалення викидів\n",
    "    print(f'Кількість рядків після видалення викидів для стовпця {column}: {df_cleaned.shape[0]}')\n",
    "    \n",
    "    # Повертаємося до оновленого DataFrame\n",
    "    df = df_cleaned.copy()  # Зберігаємо очищений DataFrame\n",
    "\n",
    "# Огляд фінального очищеного DataFrame\n",
    "df.info()"
   ]
  },
  {
   "cell_type": "code",
   "execution_count": 15,
   "id": "b58190bf-558b-4beb-80eb-ca04103e82a4",
   "metadata": {},
   "outputs": [
    {
     "name": "stdout",
     "output_type": "stream",
     "text": [
      "    person_age  person_income person_home_ownership  person_emp_length  \\\n",
      "63          25         221850              MORTGAGE                9.0   \n",
      "73          23          65000                  RENT                2.0   \n",
      "74          26          85000                  RENT                2.0   \n",
      "76          22          88000                  RENT                6.0   \n",
      "79          24          83004                  RENT                0.0   \n",
      "\n",
      "   loan_intent loan_grade  loan_amnt  loan_int_rate  loan_percent_income  \\\n",
      "63     MEDICAL          D      25000          15.70                 0.10   \n",
      "73   EDUCATION          A      28000           7.90                 0.43   \n",
      "74     VENTURE          A      28000           7.49                 0.33   \n",
      "76     VENTURE          B      28000           9.91                 0.32   \n",
      "79     VENTURE          D      28000          15.99                 0.34   \n",
      "\n",
      "   cb_person_default_on_file  cb_person_cred_hist_length  \n",
      "63                         N                           2  \n",
      "73                         N                           2  \n",
      "74                         N                           3  \n",
      "76                         N                           3  \n",
      "79                         Y                           4  \n",
      "63    1\n",
      "73    1\n",
      "74    1\n",
      "76    1\n",
      "79    1\n",
      "Name: loan_status, dtype: int64\n"
     ]
    }
   ],
   "source": [
    "#Визначимо матрицю незалежних змінних (факторів) та вектор залежної (цільової) змінної\n",
    "X = df.drop(df[['loan_status']], axis=1)\n",
    "print(X.head())\n",
    "y = df['loan_status']\n",
    "print(y.head())"
   ]
  },
  {
   "cell_type": "code",
   "execution_count": 16,
   "id": "a6ab991c-8f57-4d7f-81a3-ce0e9edc7f94",
   "metadata": {},
   "outputs": [],
   "source": [
    "# Вибираємо категоріальні стовпці в матриці незалежних змінних\n",
    "categorical_columns = X.select_dtypes(include=['object']).columns\n",
    "\n",
    "# Вибираємо кількісні ознаки (числові стовпці) в матриці незалежних змінних\n",
    "numeric_columns = X.select_dtypes(include=[float, int]).columns\n"
   ]
  },
  {
   "cell_type": "code",
   "execution_count": 17,
   "id": "2d0a6ba1-35d2-4d77-b625-68423005eb14",
   "metadata": {},
   "outputs": [
    {
     "name": "stdout",
     "output_type": "stream",
     "text": [
      "    person_age  person_income  person_emp_length  loan_amnt  loan_int_rate  \\\n",
      "63          25         221850                9.0      25000          15.70   \n",
      "73          23          65000                2.0      28000           7.90   \n",
      "74          26          85000                2.0      28000           7.49   \n",
      "76          22          88000                6.0      28000           9.91   \n",
      "79          24          83004                0.0      28000          15.99   \n",
      "\n",
      "    loan_percent_income  cb_person_cred_hist_length  \\\n",
      "63                 0.10                           2   \n",
      "73                 0.43                           2   \n",
      "74                 0.33                           3   \n",
      "76                 0.32                           3   \n",
      "79                 0.34                           4   \n",
      "\n",
      "    person_home_ownership_OTHER  person_home_ownership_OWN  \\\n",
      "63                          0.0                        0.0   \n",
      "73                          0.0                        0.0   \n",
      "74                          0.0                        0.0   \n",
      "76                          0.0                        0.0   \n",
      "79                          0.0                        0.0   \n",
      "\n",
      "    person_home_ownership_RENT  ...  loan_intent_MEDICAL  \\\n",
      "63                         0.0  ...                  1.0   \n",
      "73                         1.0  ...                  0.0   \n",
      "74                         1.0  ...                  0.0   \n",
      "76                         1.0  ...                  0.0   \n",
      "79                         1.0  ...                  0.0   \n",
      "\n",
      "    loan_intent_PERSONAL  loan_intent_VENTURE  loan_grade_B  loan_grade_C  \\\n",
      "63                   0.0                  0.0           0.0           0.0   \n",
      "73                   0.0                  0.0           0.0           0.0   \n",
      "74                   0.0                  1.0           0.0           0.0   \n",
      "76                   0.0                  1.0           1.0           0.0   \n",
      "79                   0.0                  1.0           0.0           0.0   \n",
      "\n",
      "    loan_grade_D  loan_grade_E  loan_grade_F  loan_grade_G  \\\n",
      "63           1.0           0.0           0.0           0.0   \n",
      "73           0.0           0.0           0.0           0.0   \n",
      "74           0.0           0.0           0.0           0.0   \n",
      "76           0.0           0.0           0.0           0.0   \n",
      "79           1.0           0.0           0.0           0.0   \n",
      "\n",
      "    cb_person_default_on_file_Y  \n",
      "63                          0.0  \n",
      "73                          0.0  \n",
      "74                          0.0  \n",
      "76                          0.0  \n",
      "79                          1.0  \n",
      "\n",
      "[5 rows x 22 columns]\n"
     ]
    }
   ],
   "source": [
    "from sklearn.preprocessing import StandardScaler, OneHotEncoder\n",
    "# Імпортуємо клас OneHotEncoder з бібліотеки sklearn\n",
    "encoder = OneHotEncoder(sparse_output=False, drop='first')\n",
    "\n",
    "# Застосовуємо OneHotEncoder до категоріальних стовпців\n",
    "encoded_columns = encoder.fit_transform(X[categorical_columns])\n",
    "\n",
    "# Створюємо новий DataFrame з перекодованими змінними і назвами колонок\n",
    "encoded_X = pd.DataFrame(encoded_columns, columns=encoder.get_feature_names_out(categorical_columns), index=X.index)\n",
    "\n",
    "# Об'єднуємо початковий DataFrame з новими перекодованими стовпцями\n",
    "X = X.drop(columns=categorical_columns)  # Видаляємо оригінальні категоріальні стовпці\n",
    "X = pd.concat([X, encoded_X], axis=1)\n",
    "\n",
    "# Перевіряємо результати\n",
    "print(X.head())"
   ]
  },
  {
   "cell_type": "code",
   "execution_count": 18,
   "id": "4b396b75-31b6-4646-baac-b853d3c9c55c",
   "metadata": {},
   "outputs": [
    {
     "name": "stdout",
     "output_type": "stream",
     "text": [
      "<class 'pandas.core.frame.DataFrame'>\n",
      "Index: 26318 entries, 63 to 32295\n",
      "Data columns (total 22 columns):\n",
      " #   Column                       Non-Null Count  Dtype  \n",
      "---  ------                       --------------  -----  \n",
      " 0   person_age                   26318 non-null  int64  \n",
      " 1   person_income                26318 non-null  int64  \n",
      " 2   person_emp_length            26318 non-null  float64\n",
      " 3   loan_amnt                    26318 non-null  int64  \n",
      " 4   loan_int_rate                26318 non-null  float64\n",
      " 5   loan_percent_income          26318 non-null  float64\n",
      " 6   cb_person_cred_hist_length   26318 non-null  int64  \n",
      " 7   person_home_ownership_OTHER  26318 non-null  float64\n",
      " 8   person_home_ownership_OWN    26318 non-null  float64\n",
      " 9   person_home_ownership_RENT   26318 non-null  float64\n",
      " 10  loan_intent_EDUCATION        26318 non-null  float64\n",
      " 11  loan_intent_HOMEIMPROVEMENT  26318 non-null  float64\n",
      " 12  loan_intent_MEDICAL          26318 non-null  float64\n",
      " 13  loan_intent_PERSONAL         26318 non-null  float64\n",
      " 14  loan_intent_VENTURE          26318 non-null  float64\n",
      " 15  loan_grade_B                 26318 non-null  float64\n",
      " 16  loan_grade_C                 26318 non-null  float64\n",
      " 17  loan_grade_D                 26318 non-null  float64\n",
      " 18  loan_grade_E                 26318 non-null  float64\n",
      " 19  loan_grade_F                 26318 non-null  float64\n",
      " 20  loan_grade_G                 26318 non-null  float64\n",
      " 21  cb_person_default_on_file_Y  26318 non-null  float64\n",
      "dtypes: float64(18), int64(4)\n",
      "memory usage: 4.6 MB\n"
     ]
    }
   ],
   "source": [
    "X.info ()"
   ]
  },
  {
   "cell_type": "code",
   "execution_count": 19,
   "id": "789524cf-5fd2-4e2f-ba30-ea165a47cbee",
   "metadata": {},
   "outputs": [],
   "source": [
    "#Стандартизуємо матрицю Х\n",
    "from sklearn.preprocessing import StandardScaler\n",
    "sc = StandardScaler()\n",
    "\n",
    "scaler = StandardScaler()\n",
    "X_std = scaler.fit_transform(X)"
   ]
  },
  {
   "cell_type": "code",
   "execution_count": 20,
   "id": "f2017972-0e1a-4f8b-a6c2-75eccdb75709",
   "metadata": {},
   "outputs": [],
   "source": [
    "#4 Реалізуйте алгоритми логістичної регресії, найближчих сусідів (KNN) та опорних векторів (SVM) для класифікації позичальників банку \n",
    "#( перший алгоритм розглядала на лекції, другий, третій - на самостійне опрацювання).\n",
    "#Перевірте точність класифікаторів та обретіть найкращий із них для подальшої роботи.\n",
    "#Зробіть висновки: чи вдалося побудувати точний класифікатор; який із трьох розглянутих алгоритмів показав найкращі, а який найгірші результати?"
   ]
  },
  {
   "cell_type": "code",
   "execution_count": 21,
   "id": "41bde0a4-ef40-475b-b9c6-ca7db1d12f0d",
   "metadata": {},
   "outputs": [],
   "source": [
    "\n",
    "# імпортуємо train_test_split із модуля sklearn.model_selection\n",
    "from sklearn.model_selection import train_test_split\n",
    "\n",
    "#Розділимо дані на навчальну і тестову вибірки\n",
    "X_train, X_test, y_train, y_test = train_test_split(X_std, y, stratify = y, test_size=0.2, random_state=0)"
   ]
  },
  {
   "cell_type": "code",
   "execution_count": 22,
   "id": "cc2a9fbb-e5c7-4436-9f95-0a088f2e7618",
   "metadata": {},
   "outputs": [
    {
     "name": "stdout",
     "output_type": "stream",
     "text": [
      "Logistic Regression - Точність на навчальній вибірці: 0.869\n",
      "Logistic Regression - Точність на тестовій вибірці: 0.876\n"
     ]
    },
    {
     "data": {
      "image/png": "[encoded data removed]",
      "text/plain": [
       "<Figure size 640x480 with 2 Axes>"
      ]
     },
     "metadata": {},
     "output_type": "display_data"
    },
    {
     "name": "stdout",
     "output_type": "stream",
     "text": [
      "KNN - Точність на навчальній вибірці: 0.919\n",
      "KNN - Точність на тестовій вибірці: 0.901\n"
     ]
    },
    {
     "data": {
      "image/png": "[encoded data removed]",
      "text/plain": [
       "<Figure size 640x480 with 2 Axes>"
      ]
     },
     "metadata": {},
     "output_type": "display_data"
    },
    {
     "name": "stdout",
     "output_type": "stream",
     "text": [
      "SVM - Точність на навчальній вибірці: 0.917\n",
      "SVM - Точність на тестовій вибірці: 0.918\n"
     ]
    },
    {
     "data": {
      "image/png": "[encoded data removed]",
      "text/plain": [
       "<Figure size 640x480 with 2 Axes>"
      ]
     },
     "metadata": {},
     "output_type": "display_data"
    },
    {
     "name": "stdout",
     "output_type": "stream",
     "text": [
      "Найкращий класифікатор для подальшої роботи: SVM з точністю на тестовій вибірці 0.918\n"
     ]
    }
   ],
   "source": [
    "from sklearn.linear_model import LogisticRegression\n",
    "from sklearn.neighbors import KNeighborsClassifier\n",
    "from sklearn.svm import SVC\n",
    "from sklearn.metrics import accuracy_score, confusion_matrix, ConfusionMatrixDisplay\n",
    "import matplotlib.pyplot as plt\n",
    "\n",
    "# Створюємо список моделей з їх назвами\n",
    "models = [\n",
    "    (\"Logistic Regression\", LogisticRegression()),\n",
    "    (\"KNN\", KNeighborsClassifier(n_neighbors=5)),\n",
    "    (\"SVM\", SVC())\n",
    "]\n",
    "\n",
    "# Словник для зберігання результатів точності\n",
    "accuracy_results = {}\n",
    "\n",
    "# Цикл для тренування, оцінки та виведення результатів для кожної моделі\n",
    "for model_name, model in models:\n",
    "    # Навчання моделі\n",
    "    model.fit(X_train, y_train)\n",
    "    \n",
    "    # Прогнози на навчальній та тестовій вибірках\n",
    "    y_pred_train = model.predict(X_train)\n",
    "    y_pred_test = model.predict(X_test)\n",
    "    \n",
    "    # Обчислення точності\n",
    "    accuracy_train = accuracy_score(y_train, y_pred_train)\n",
    "    accuracy_test = accuracy_score(y_test, y_pred_test)\n",
    "    accuracy_results[model_name] = accuracy_test  # Зберігаємо точність на тестовій вибірці\n",
    "    \n",
    "    # Виведення результатів\n",
    "    print(f\"{model_name} - Точність на навчальній вибірці: {accuracy_train:.3f}\")\n",
    "    print(f\"{model_name} - Точність на тестовій вибірці: {accuracy_test:.3f}\")\n",
    "    \n",
    "    # Побудова матриці помилок на тестовій вибірці\n",
    "    cm = confusion_matrix(y_test, y_pred_test)\n",
    "    cmd = ConfusionMatrixDisplay(cm, display_labels=['0', '1'])\n",
    "    cmd.plot()\n",
    "    plt.title(f\"Матриця помилок для {model_name}\")\n",
    "    plt.show()\n",
    "\n",
    "# Вибір найкращої моделі за точністю на тестовій вибірці\n",
    "best_model_name = max(accuracy_results, key=accuracy_results.get)\n",
    "print(f\"Найкращий класифікатор для подальшої роботи: {best_model_name} з точністю на тестовій вибірці {accuracy_results[best_model_name]:.3f}\")\n"
   ]
  },
  {
   "cell_type": "code",
   "execution_count": null,
   "id": "686da194-11d0-4a31-aada-820c0cf852a5",
   "metadata": {},
   "outputs": [],
   "source": [
    "# Тепер навчання SVM\n",
    "svm = SVC()  \n",
    "svm.fit(X_train, y_train)  # Навчаємо модель\n",
    "\n",
    "# Прогнозування\n",
    "y_pred_train_svm = svm.predict(X_train)  \n",
    "y_pred_test_svm = svm.predict(X_test)    "
   ]
  },
  {
   "cell_type": "code",
   "execution_count": null,
   "id": "933b6f82-ce9c-4192-a3d0-796e7e619554",
   "metadata": {},
   "outputs": [],
   "source": [
    "#Найкращий класифікатор: Найвищу точність на тестовій вибірці показав метод опорних векторів (SVM) з точністю 0.918, що робить його найкращим класифікатором серед розглянутих.\n",
    "\n",
    "#Найгірший результат: Логістична регресія продемонструвала найнижчу точність на тестовій вибірці (0.876). Хоча результат досить високий, він поступається двом іншим моделям.\n",
    "\n",
    "#KNN: Метод K-найближчих сусідів показав точність на тестовій вибірці 0.901, що є добрим результатом, але він все ж трохи поступається SVM.\n",
    "\n",
    "#Загалом, усі три класифікатори можуть бути використані для цього завдання, оскільки вони демонструють високу точність. "
   ]
  },
  {
   "cell_type": "code",
   "execution_count": null,
   "id": "6d6951a6-6906-4d12-a59f-d2023c68d731",
   "metadata": {},
   "outputs": [],
   "source": [
    "#Необхідно прийняти рішення щодо видачі кредиту для нових позичальників, інформація про яких знаходиться в файлі 'give_refuse_a_loan.csv': спрогнозуйте значення цільової змінної та зробіть висновки яким позичальникам варто видати кредит, а яким - відмовити."
   ]
  },
  {
   "cell_type": "code",
   "execution_count": null,
   "id": "617e5fb7-691e-480d-84e3-50bb7f853c8f",
   "metadata": {},
   "outputs": [],
   "source": [
    "new_person_loan = pd.read_csv('give_refuse_a_loan.csv')\n",
    "new_person_loan"
   ]
  },
  {
   "cell_type": "code",
   "execution_count": null,
   "id": "22ae70f4-5ffd-4598-8810-c74e198567d0",
   "metadata": {},
   "outputs": [],
   "source": [
    "new_person_loan.info ()"
   ]
  },
  {
   "cell_type": "code",
   "execution_count": null,
   "id": "c7b8ca39-36e6-40bf-b69d-5c7260c569f5",
   "metadata": {},
   "outputs": [],
   "source": [
    "# Видалення стовпця loan_status\n",
    "new_person_loan = new_person_loan.drop(columns=['loan_status'])\n",
    "\n",
    "# Перевірка результату\n",
    "new_person_loan.head(20)"
   ]
  },
  {
   "cell_type": "code",
   "execution_count": null,
   "id": "c6df0c91-3cbf-4a23-a153-a8d8f0b1968c",
   "metadata": {},
   "outputs": [],
   "source": [
    "# Заповнення пропусків у стовпці loan_int_rate середнім значенням\n",
    "mean_loan_int_rate = new_person_loan['loan_int_rate'].mean()\n",
    "new_person_loan['loan_int_rate'] = new_person_loan['loan_int_rate'].fillna(mean_loan_int_rate)\n",
    "\n",
    "# Перевірка результату\n",
    "new_person_loan.info ()\n"
   ]
  },
  {
   "cell_type": "code",
   "execution_count": null,
   "id": "8ec9f76a-7b7e-4e99-81c9-b21b7cfa65e6",
   "metadata": {},
   "outputs": [],
   "source": [
    "# Створюємо OneHotEncoder та StandardScaler\n",
    "encoder = OneHotEncoder(sparse_output=False, drop='first')\n",
    "scaler = StandardScaler()\n",
    "\n",
    "\n",
    "# Перекодування категоріальних змінних\n",
    "encoded_columns = encoder.fit_transform(new_person_loan[categorical_columns])\n",
    "encoded_new_person_loan = pd.DataFrame(encoded_columns, columns=encoder.get_feature_names_out(categorical_columns), index=new_person_loan.index)\n",
    "\n",
    "# Видаляємо оригінальні категоріальні стовпці\n",
    "new_person_loan = new_person_loan.drop(columns=categorical_columns)\n",
    "new_person_loan = pd.concat([new_person_loan, encoded_new_person_loan], axis=1)"
   ]
  },
  {
   "cell_type": "code",
   "execution_count": null,
   "id": "35b4d901-b67e-4cda-9e6f-5cc18d17e62f",
   "metadata": {},
   "outputs": [],
   "source": [
    "new_person_loan.info ()"
   ]
  },
  {
   "cell_type": "code",
   "execution_count": null,
   "id": "323e1249-640d-4375-83ac-4831539978fc",
   "metadata": {},
   "outputs": [],
   "source": [
    "from sklearn.preprocessing import StandardScaler\n",
    "\n",
    "# Ініціалізуємо StandardScaler\n",
    "scaler = StandardScaler()\n",
    "\n",
    "X_std = scaler.fit_transform(X)  \n",
    "X_new = scaler.transform(new_person_loan)  \n"
   ]
  },
  {
   "cell_type": "code",
   "execution_count": null,
   "id": "31478aa2-a05a-446f-8219-2798d4ee95fa",
   "metadata": {},
   "outputs": [],
   "source": [
    "# Прогноз для нових даних за допомогою найкращої моделі  SVM\n",
    "y_pred_new = svm.predict(X_new)\n",
    "\n",
    "# Додаємо спрогнозовані значення цільової змінної до датафрейму new_companies\n",
    "new_person_loan['loan_status_Predicted'] = y_pred_new\n",
    "\n",
    "# Переглядаємо результати\n",
    "print(new_person_loan.head(20))"
   ]
  },
  {
   "cell_type": "code",
   "execution_count": null,
   "id": "be5c199a-646d-469b-9b36-2239be0c7d42",
   "metadata": {},
   "outputs": [],
   "source": [
    "#Лише чотири людини потенційно є недобросовісними ,котрим варто ?краще ,не видавати кредити."
   ]
  }
 ],
 "metadata": {
  "kernelspec": {
   "display_name": "Python 3 (ipykernel)",
   "language": "python",
   "name": "python3"
  },
  "language_info": {
   "codemirror_mode": {
    "name": "ipython",
    "version": 3
   },
   "file_extension": ".py",
   "mimetype": "text/x-python",
   "name": "python",
   "nbconvert_exporter": "python",
   "pygments_lexer": "ipython3",
   "version": "3.12.4"
  }
 },
 "nbformat": 4,
 "nbformat_minor": 5
}
