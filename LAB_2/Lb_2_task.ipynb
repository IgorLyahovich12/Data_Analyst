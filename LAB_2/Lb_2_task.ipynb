{
 "cells": [
  {
   "cell_type": "markdown",
   "id": "9e441818",
   "metadata": {},
   "source": [
    "## Лабораторна робота 2  \n",
    "Цей набір даних, отриманий в результаті опитування на Stack Overflow за 2024 рік, представляє відповіді ІТ-фахівців з усього світу щодо їх професійного досвіду, технологічних уподобань, умов роботи та навичок. Детальний опис колонок:  \n",
    "MainBranch — Основна професійна роль респондента.  \n",
    "Age — Вік респондента в категоріях.  \n",
    "RemoteWork — Чи працює респондент віддалено.  \n",
    "EdLevel — Рівень освіти респондента.  \n",
    "YearsCode — Загальна кількість років досвіду програмування.  \n",
    "YearsCodePro — Кількість років професійного досвіду програмування.  \n",
    "OrgSize — Розмір організації респондента (за кількістю співробітників).  \n",
    "Country — Країна, в якій перебуває респондент.  \n",
    "CompTotal — Загальна заробітна плата респондента за рік.  \n",
    "SOVisitFreq — Частота відвідування Stack Overflow.  \n",
    "SOAccount — Наявність облікового запису на Stack Overflow.  \n",
    "SOPartFreq — Частота участі у питаннях/відповідях на Stack Overflow.  \n",
    "SOComm — Залученість у ком'юніті Stack Overflow.  \n",
    "AISelect — Використання штучного інтелекту респондентом.  \n",
    "AISent — Відношення респондентів до AI (позитивне, негативне, нейтральне).  \n",
    "AIAcc — Наскільки респондент довіряє AI.  \n",
    "AIComplex — Наскільки складними здаються AI-рішення.  \n",
    "AIThreat — Чи сприймає респондент AI як загрозу для своєї роботи.  \n",
    "TBranch — Основна технологічна галузь, в якій працює респондент.  \n",
    "ICorPM — Чи є респондент індивідуальним фахівцем або менеджером.  \n",
    "WorkExp — Загальний досвід роботи в індустрії.  \n",
    "Knowledge_1 - Knowledge_9 — Рівень знань і використання певних технологій чи інструментів.  \n",
    "Frequency_1 - Frequency_3 — Частота використання певних інструментів.  \n",
    "TimeSearching — Час, витрачений на пошук відповідей або рішень.  \n",
    "TimeAnswering — Час, витрачений на надання відповідей.  \n",
    "ProfessionalCloud — Використання хмарних технологій у професійній діяльності.  \n",
    "ProfessionalQuestion — Професійний інтерес до запитань у сфері технологій.  \n",
    "JobSatPoints_1 - JobSatPoints_11 — Оцінки задоволення роботою за різними аспектами.  \n",
    "SurveyLength — Відчуття респондента щодо тривалості опитування.  \n",
    "SurveyEase — Оцінка легкості проходження опитування.  \n",
    "ConvertedCompYearly — Річний дохід, приведений до доларів США.  \n",
    "JobSat — Загальна задоволеність респондента роботою.  "
   ]
  },
  {
   "cell_type": "code",
   "execution_count": 1,
   "id": "ee7784e4",
   "metadata": {
    "scrolled": true
   },
   "outputs": [
    {
     "data": {
      "text/html": [
       "<div>\n",
       "<style scoped>\n",
       "    .dataframe tbody tr th:only-of-type {\n",
       "        vertical-align: middle;\n",
       "    }\n",
       "\n",
       "    .dataframe tbody tr th {\n",
       "        vertical-align: top;\n",
       "    }\n",
       "\n",
       "    .dataframe thead th {\n",
       "        text-align: right;\n",
       "    }\n",
       "</style>\n",
       "<table border=\"1\" class=\"dataframe\">\n",
       "  <thead>\n",
       "    <tr style=\"text-align: right;\">\n",
       "      <th></th>\n",
       "      <th>MainBranch</th>\n",
       "      <th>Age</th>\n",
       "      <th>RemoteWork</th>\n",
       "      <th>EdLevel</th>\n",
       "      <th>YearsCode</th>\n",
       "      <th>YearsCodePro</th>\n",
       "      <th>OrgSize</th>\n",
       "      <th>Country</th>\n",
       "      <th>CompTotal</th>\n",
       "      <th>SOVisitFreq</th>\n",
       "      <th>...</th>\n",
       "      <th>TimeAnswering</th>\n",
       "      <th>ProfessionalCloud</th>\n",
       "      <th>ProfessionalQuestion</th>\n",
       "      <th>JobSatPoints_1</th>\n",
       "      <th>JobSatPoints_4</th>\n",
       "      <th>JobSatPoints_5</th>\n",
       "      <th>SurveyLength</th>\n",
       "      <th>SurveyEase</th>\n",
       "      <th>ConvertedCompYearly</th>\n",
       "      <th>JobSat</th>\n",
       "    </tr>\n",
       "  </thead>\n",
       "  <tbody>\n",
       "    <tr>\n",
       "      <th>0</th>\n",
       "      <td>I am a developer by profession</td>\n",
       "      <td>Under 18 years old</td>\n",
       "      <td>Remote</td>\n",
       "      <td>Primary/elementary school</td>\n",
       "      <td>NaN</td>\n",
       "      <td>NaN</td>\n",
       "      <td>NaN</td>\n",
       "      <td>United States of America</td>\n",
       "      <td>NaN</td>\n",
       "      <td>NaN</td>\n",
       "      <td>...</td>\n",
       "      <td>NaN</td>\n",
       "      <td>NaN</td>\n",
       "      <td>NaN</td>\n",
       "      <td>NaN</td>\n",
       "      <td>NaN</td>\n",
       "      <td>NaN</td>\n",
       "      <td>NaN</td>\n",
       "      <td>NaN</td>\n",
       "      <td>NaN</td>\n",
       "      <td>NaN</td>\n",
       "    </tr>\n",
       "    <tr>\n",
       "      <th>1</th>\n",
       "      <td>I am a developer by profession</td>\n",
       "      <td>35-44 years old</td>\n",
       "      <td>Remote</td>\n",
       "      <td>Bachelor’s degree (B.A., B.S., B.Eng., etc.)</td>\n",
       "      <td>20</td>\n",
       "      <td>17</td>\n",
       "      <td>NaN</td>\n",
       "      <td>United Kingdom of Great Britain and Northern I...</td>\n",
       "      <td>NaN</td>\n",
       "      <td>Multiple times per day</td>\n",
       "      <td>...</td>\n",
       "      <td>NaN</td>\n",
       "      <td>NaN</td>\n",
       "      <td>NaN</td>\n",
       "      <td>0.0</td>\n",
       "      <td>0.0</td>\n",
       "      <td>0.0</td>\n",
       "      <td>NaN</td>\n",
       "      <td>NaN</td>\n",
       "      <td>NaN</td>\n",
       "      <td>NaN</td>\n",
       "    </tr>\n",
       "    <tr>\n",
       "      <th>2</th>\n",
       "      <td>I am a developer by profession</td>\n",
       "      <td>45-54 years old</td>\n",
       "      <td>Remote</td>\n",
       "      <td>Master’s degree (M.A., M.S., M.Eng., MBA, etc.)</td>\n",
       "      <td>37</td>\n",
       "      <td>27</td>\n",
       "      <td>NaN</td>\n",
       "      <td>United Kingdom of Great Britain and Northern I...</td>\n",
       "      <td>NaN</td>\n",
       "      <td>Multiple times per day</td>\n",
       "      <td>...</td>\n",
       "      <td>NaN</td>\n",
       "      <td>NaN</td>\n",
       "      <td>NaN</td>\n",
       "      <td>NaN</td>\n",
       "      <td>NaN</td>\n",
       "      <td>NaN</td>\n",
       "      <td>Appropriate in length</td>\n",
       "      <td>Easy</td>\n",
       "      <td>NaN</td>\n",
       "      <td>NaN</td>\n",
       "    </tr>\n",
       "    <tr>\n",
       "      <th>3</th>\n",
       "      <td>I am learning to code</td>\n",
       "      <td>18-24 years old</td>\n",
       "      <td>NaN</td>\n",
       "      <td>Some college/university study without earning ...</td>\n",
       "      <td>4</td>\n",
       "      <td>NaN</td>\n",
       "      <td>NaN</td>\n",
       "      <td>Canada</td>\n",
       "      <td>NaN</td>\n",
       "      <td>Daily or almost daily</td>\n",
       "      <td>...</td>\n",
       "      <td>NaN</td>\n",
       "      <td>NaN</td>\n",
       "      <td>NaN</td>\n",
       "      <td>NaN</td>\n",
       "      <td>NaN</td>\n",
       "      <td>NaN</td>\n",
       "      <td>Too long</td>\n",
       "      <td>Easy</td>\n",
       "      <td>NaN</td>\n",
       "      <td>NaN</td>\n",
       "    </tr>\n",
       "    <tr>\n",
       "      <th>4</th>\n",
       "      <td>I code primarily as a hobby</td>\n",
       "      <td>Under 18 years old</td>\n",
       "      <td>NaN</td>\n",
       "      <td>Primary/elementary school</td>\n",
       "      <td>10</td>\n",
       "      <td>NaN</td>\n",
       "      <td>NaN</td>\n",
       "      <td>United States of America</td>\n",
       "      <td>NaN</td>\n",
       "      <td>Multiple times per day</td>\n",
       "      <td>...</td>\n",
       "      <td>NaN</td>\n",
       "      <td>NaN</td>\n",
       "      <td>NaN</td>\n",
       "      <td>NaN</td>\n",
       "      <td>NaN</td>\n",
       "      <td>NaN</td>\n",
       "      <td>Appropriate in length</td>\n",
       "      <td>Easy</td>\n",
       "      <td>NaN</td>\n",
       "      <td>NaN</td>\n",
       "    </tr>\n",
       "  </tbody>\n",
       "</table>\n",
       "<p>5 rows × 35 columns</p>\n",
       "</div>"
      ],
      "text/plain": [
       "                       MainBranch                 Age RemoteWork  \\\n",
       "0  I am a developer by profession  Under 18 years old     Remote   \n",
       "1  I am a developer by profession     35-44 years old     Remote   \n",
       "2  I am a developer by profession     45-54 years old     Remote   \n",
       "3           I am learning to code     18-24 years old        NaN   \n",
       "4     I code primarily as a hobby  Under 18 years old        NaN   \n",
       "\n",
       "                                             EdLevel YearsCode YearsCodePro  \\\n",
       "0                          Primary/elementary school       NaN          NaN   \n",
       "1       Bachelor’s degree (B.A., B.S., B.Eng., etc.)        20           17   \n",
       "2    Master’s degree (M.A., M.S., M.Eng., MBA, etc.)        37           27   \n",
       "3  Some college/university study without earning ...         4          NaN   \n",
       "4                          Primary/elementary school        10          NaN   \n",
       "\n",
       "  OrgSize                                            Country  CompTotal  \\\n",
       "0     NaN                           United States of America        NaN   \n",
       "1     NaN  United Kingdom of Great Britain and Northern I...        NaN   \n",
       "2     NaN  United Kingdom of Great Britain and Northern I...        NaN   \n",
       "3     NaN                                             Canada        NaN   \n",
       "4     NaN                           United States of America        NaN   \n",
       "\n",
       "              SOVisitFreq  ... TimeAnswering ProfessionalCloud  \\\n",
       "0                     NaN  ...           NaN               NaN   \n",
       "1  Multiple times per day  ...           NaN               NaN   \n",
       "2  Multiple times per day  ...           NaN               NaN   \n",
       "3   Daily or almost daily  ...           NaN               NaN   \n",
       "4  Multiple times per day  ...           NaN               NaN   \n",
       "\n",
       "  ProfessionalQuestion JobSatPoints_1 JobSatPoints_4 JobSatPoints_5  \\\n",
       "0                  NaN            NaN            NaN            NaN   \n",
       "1                  NaN            0.0            0.0            0.0   \n",
       "2                  NaN            NaN            NaN            NaN   \n",
       "3                  NaN            NaN            NaN            NaN   \n",
       "4                  NaN            NaN            NaN            NaN   \n",
       "\n",
       "            SurveyLength SurveyEase ConvertedCompYearly JobSat  \n",
       "0                    NaN        NaN                 NaN    NaN  \n",
       "1                    NaN        NaN                 NaN    NaN  \n",
       "2  Appropriate in length       Easy                 NaN    NaN  \n",
       "3               Too long       Easy                 NaN    NaN  \n",
       "4  Appropriate in length       Easy                 NaN    NaN  \n",
       "\n",
       "[5 rows x 35 columns]"
      ]
     },
     "execution_count": 1,
     "metadata": {},
     "output_type": "execute_result"
    }
   ],
   "source": [
    "import pandas as pd\n",
    "from sklearn.preprocessing import OneHotEncoder\n",
    "df = pd.read_csv('stack_overflow_2024.csv')\n",
    "df.head()"
   ]
  },
  {
   "cell_type": "markdown",
   "id": "b852a18e",
   "metadata": {},
   "source": [
    "## Завдання  \n",
    "1. Оцініть розмір датафрейму та виведіть інформацію про кількість пропущених значень у кожному стовпці.  \n",
    "2. Визначте, які стовпці містять числові дані, але розпізнані як текст. Конвертуйте ці стовпці до числового типу даних. Перевірте результати конвертації, щоб переконатися, що всі дані правильно перетворені.  \n",
    "3. Проведіть видалення викидів у числових даних. Для кожної числової ознаки визначте нижній і верхній квантилі на рівні 1% та 99%. Видаліть значення, що знаходяться поза цими квантилями (тобто значення, які можна вважати викидами). Відобразіть кількість видалених рядків для кожної ознаки та зробіть висновки про поширеність викидів у даних.  \n",
    "4. Видаліть усі стовпці, у яких пропущено 50% або більше значень.\n",
    "5. Для решти стовпців з пропусками заповніть або видаліть пропущені значення. Обґрунтуйте ваш вибір методу заповнення (або видалення) для кожного стовпця.  \n",
    "6. Проведіть дослідження думок українських IT-спеціалістів щодо штучного інтелекту. Створіть новий датафрейм, який включатиме тільки респондентів з України. Визначте, як українські спеціалісти ставляться до штучного інтелекту: наскільки часто вони використовують AI, як оцінюють його складність, довіру до нього та чи бачать загрозу у своїй роботі.  \n",
    "<span style=\"color:red\">Після виконання 6-го завдання стовпчик Country необхідно видалити, так як він містить багато категорій і при подальшому перекодуванні буде перетворений на багато зайвих стовпців. Якщо маєте бажання, можна самостійно розібрати метод перекодуваня категоріальних змінних Label Encoder та застосувати саме цей метод до змінної Country</span>  \n",
    "7. Перетворіть усі категоріальні змінні за допомогою методу One-Hot Encoding.  \n",
    "8. Виконайте нормалізацію кількісних змінних за допомогою класу MinMaxScaler з бібліотеки Sklearn (<span style=\"color:red\">нормалізацію залишаю на самостійне опрацювання, так як на лекції було розглянуто тільки стандартизацію</span>  ). "
   ]
  },
  {
   "cell_type": "code",
   "execution_count": 2,
   "id": "f2addee9-8051-4bac-a751-46e253580678",
   "metadata": {},
   "outputs": [],
   "source": [
    "#1 Оцініть розмір датафрейму та виведіть інформацію про кількість пропущених значень у кожному стовпці."
   ]
  },
  {
   "cell_type": "code",
   "execution_count": 3,
   "id": "ac6c6e7c",
   "metadata": {},
   "outputs": [
    {
     "name": "stdout",
     "output_type": "stream",
     "text": [
      "<class 'pandas.core.frame.DataFrame'>\n",
      "RangeIndex: 58061 entries, 0 to 58060\n",
      "Data columns (total 35 columns):\n",
      " #   Column                Non-Null Count  Dtype  \n",
      "---  ------                --------------  -----  \n",
      " 0   MainBranch            58061 non-null  object \n",
      " 1   Age                   58061 non-null  object \n",
      " 2   RemoteWork            48673 non-null  object \n",
      " 3   EdLevel               53889 non-null  object \n",
      " 4   YearsCode             53076 non-null  object \n",
      " 5   YearsCodePro          45818 non-null  object \n",
      " 6   OrgSize               42136 non-null  object \n",
      " 7   Country               52201 non-null  object \n",
      " 8   CompTotal             29886 non-null  float64\n",
      " 9   SOVisitFreq           52758 non-null  object \n",
      " 10  SOAccount             52776 non-null  object \n",
      " 11  SOPartFreq            40057 non-null  object \n",
      " 12  SOComm                52411 non-null  object \n",
      " 13  AISelect              53958 non-null  object \n",
      " 14  AISent                40721 non-null  object \n",
      " 15  AIAcc                 33163 non-null  object \n",
      " 16  AIComplex             32910 non-null  object \n",
      " 17  AIThreat              39656 non-null  object \n",
      " 18  TBranch               39414 non-null  object \n",
      " 19  ICorPM                26387 non-null  object \n",
      " 20  WorkExp               26274 non-null  float64\n",
      " 21  Knowledge_1           25383 non-null  object \n",
      " 22  Knowledge_2           24818 non-null  object \n",
      " 23  Knowledge_3           24875 non-null  object \n",
      " 24  TimeSearching         25589 non-null  object \n",
      " 25  TimeAnswering         25530 non-null  object \n",
      " 26  ProfessionalCloud     25231 non-null  object \n",
      " 27  ProfessionalQuestion  25506 non-null  object \n",
      " 28  JobSatPoints_1        25972 non-null  float64\n",
      " 29  JobSatPoints_4        26031 non-null  float64\n",
      " 30  JobSatPoints_5        26052 non-null  float64\n",
      " 31  SurveyLength          49755 non-null  object \n",
      " 32  SurveyEase            49809 non-null  object \n",
      " 33  ConvertedCompYearly   20767 non-null  float64\n",
      " 34  JobSat                25793 non-null  float64\n",
      "dtypes: float64(7), object(28)\n",
      "memory usage: 15.5+ MB\n"
     ]
    }
   ],
   "source": [
    "# Отримання загальної інформації про набір даних\n",
    "df.info()"
   ]
  },
  {
   "cell_type": "code",
   "execution_count": 4,
   "id": "773c0de0-34b8-470e-b3b0-b18eff674937",
   "metadata": {},
   "outputs": [],
   "source": [
    "#Датафрейм містить 58061 рядків і 35 стовпців"
   ]
  },
  {
   "cell_type": "code",
   "execution_count": 5,
   "id": "c5db733f-ffb9-4647-9743-ea54add195f4",
   "metadata": {},
   "outputs": [
    {
     "data": {
      "text/plain": [
       "MainBranch                  0\n",
       "Age                         0\n",
       "RemoteWork               9388\n",
       "EdLevel                  4172\n",
       "YearsCode                4985\n",
       "YearsCodePro            12243\n",
       "OrgSize                 15925\n",
       "Country                  5860\n",
       "CompTotal               28175\n",
       "SOVisitFreq              5303\n",
       "SOAccount                5285\n",
       "SOPartFreq              18004\n",
       "SOComm                   5650\n",
       "AISelect                 4103\n",
       "AISent                  17340\n",
       "AIAcc                   24898\n",
       "AIComplex               25151\n",
       "AIThreat                18405\n",
       "TBranch                 18647\n",
       "ICorPM                  31674\n",
       "WorkExp                 31787\n",
       "Knowledge_1             32678\n",
       "Knowledge_2             33243\n",
       "Knowledge_3             33186\n",
       "TimeSearching           32472\n",
       "TimeAnswering           32531\n",
       "ProfessionalCloud       32830\n",
       "ProfessionalQuestion    32555\n",
       "JobSatPoints_1          32089\n",
       "JobSatPoints_4          32030\n",
       "JobSatPoints_5          32009\n",
       "SurveyLength             8306\n",
       "SurveyEase               8252\n",
       "ConvertedCompYearly     37294\n",
       "JobSat                  32268\n",
       "dtype: int64"
      ]
     },
     "execution_count": 5,
     "metadata": {},
     "output_type": "execute_result"
    }
   ],
   "source": [
    "df.isnull().sum()"
   ]
  },
  {
   "cell_type": "code",
   "execution_count": 6,
   "id": "49152b45-72bd-478c-b557-0c51412c0728",
   "metadata": {},
   "outputs": [],
   "source": [
    "#Стовпці без пропущених значень( MainBranch і Age)\n",
    "#Інші стовпці мають велику кількість пропусків."
   ]
  },
  {
   "cell_type": "code",
   "execution_count": 7,
   "id": "31c7dbee-4890-429d-b591-36288ebb4e1c",
   "metadata": {},
   "outputs": [],
   "source": [
    "#2  Визначте, які стовпці містять числові дані, але розпізнані як текст. Конвертуйте ці стовпці до числового типу даних. Перевірте результати конвертації, щоб переконатися, що всі дані правильно перетворені."
   ]
  },
  {
   "cell_type": "code",
   "execution_count": 8,
   "id": "955a6cc3-566c-43c4-a7e2-3f2534de9976",
   "metadata": {},
   "outputs": [
    {
     "data": {
      "text/plain": [
       "Index(['MainBranch', 'Age', 'RemoteWork', 'EdLevel', 'YearsCode',\n",
       "       'YearsCodePro', 'OrgSize', 'Country', 'SOVisitFreq', 'SOAccount',\n",
       "       'SOPartFreq', 'SOComm', 'AISelect', 'AISent', 'AIAcc', 'AIComplex',\n",
       "       'AIThreat', 'TBranch', 'ICorPM', 'Knowledge_1', 'Knowledge_2',\n",
       "       'Knowledge_3', 'TimeSearching', 'TimeAnswering', 'ProfessionalCloud',\n",
       "       'ProfessionalQuestion', 'SurveyLength', 'SurveyEase'],\n",
       "      dtype='object')"
      ]
     },
     "execution_count": 8,
     "metadata": {},
     "output_type": "execute_result"
    }
   ],
   "source": [
    "df.select_dtypes(include=['object']).columns"
   ]
  },
  {
   "cell_type": "code",
   "execution_count": 9,
   "id": "85be5b65-6f7c-4cd4-9b9c-485c45269c2f",
   "metadata": {},
   "outputs": [],
   "source": [
    "#YearsCode і YearsCodePro містять числові значення, представлені у текстовому форматі."
   ]
  },
  {
   "cell_type": "code",
   "execution_count": 10,
   "id": "321ec6f6-7c78-485e-889e-de90e2c40d3b",
   "metadata": {},
   "outputs": [
    {
     "name": "stdout",
     "output_type": "stream",
     "text": [
      "0        Under 18 years old\n",
      "1           35-44 years old\n",
      "2           45-54 years old\n",
      "3           18-24 years old\n",
      "4        Under 18 years old\n",
      "                ...        \n",
      "58056       18-24 years old\n",
      "58057       25-34 years old\n",
      "58058       25-34 years old\n",
      "58059       18-24 years old\n",
      "58060       18-24 years old\n",
      "Name: Age, Length: 58061, dtype: object\n"
     ]
    }
   ],
   "source": [
    "non_numeric_values = df['Age'][df['Age'].str.contains(r'[^\\d\\.]', na=False)]\n",
    "print(non_numeric_values)"
   ]
  },
  {
   "cell_type": "code",
   "execution_count": 11,
   "id": "b141f116-9903-4545-8ec1-a41374b7ad57",
   "metadata": {},
   "outputs": [],
   "source": [
    "df['YearsCode'] = df['YearsCode'].replace({'More than 50 years': 50.5})\n",
    "df['YearsCode'] = df['YearsCode'].replace({'Less than 1 year': 0.5})"
   ]
  },
  {
   "cell_type": "code",
   "execution_count": 12,
   "id": "6bbf7c7e-468b-42fb-b65b-1d69041c6d33",
   "metadata": {},
   "outputs": [],
   "source": [
    "df['YearsCode'] = df['YearsCode'].astype(float)"
   ]
  },
  {
   "cell_type": "code",
   "execution_count": 13,
   "id": "b8665609-ca7c-46c8-9a4a-3a41e1dbe845",
   "metadata": {},
   "outputs": [
    {
     "name": "stdout",
     "output_type": "stream",
     "text": [
      "<class 'pandas.core.frame.DataFrame'>\n",
      "RangeIndex: 58061 entries, 0 to 58060\n",
      "Data columns (total 35 columns):\n",
      " #   Column                Non-Null Count  Dtype  \n",
      "---  ------                --------------  -----  \n",
      " 0   MainBranch            58061 non-null  object \n",
      " 1   Age                   58061 non-null  object \n",
      " 2   RemoteWork            48673 non-null  object \n",
      " 3   EdLevel               53889 non-null  object \n",
      " 4   YearsCode             53076 non-null  float64\n",
      " 5   YearsCodePro          45818 non-null  object \n",
      " 6   OrgSize               42136 non-null  object \n",
      " 7   Country               52201 non-null  object \n",
      " 8   CompTotal             29886 non-null  float64\n",
      " 9   SOVisitFreq           52758 non-null  object \n",
      " 10  SOAccount             52776 non-null  object \n",
      " 11  SOPartFreq            40057 non-null  object \n",
      " 12  SOComm                52411 non-null  object \n",
      " 13  AISelect              53958 non-null  object \n",
      " 14  AISent                40721 non-null  object \n",
      " 15  AIAcc                 33163 non-null  object \n",
      " 16  AIComplex             32910 non-null  object \n",
      " 17  AIThreat              39656 non-null  object \n",
      " 18  TBranch               39414 non-null  object \n",
      " 19  ICorPM                26387 non-null  object \n",
      " 20  WorkExp               26274 non-null  float64\n",
      " 21  Knowledge_1           25383 non-null  object \n",
      " 22  Knowledge_2           24818 non-null  object \n",
      " 23  Knowledge_3           24875 non-null  object \n",
      " 24  TimeSearching         25589 non-null  object \n",
      " 25  TimeAnswering         25530 non-null  object \n",
      " 26  ProfessionalCloud     25231 non-null  object \n",
      " 27  ProfessionalQuestion  25506 non-null  object \n",
      " 28  JobSatPoints_1        25972 non-null  float64\n",
      " 29  JobSatPoints_4        26031 non-null  float64\n",
      " 30  JobSatPoints_5        26052 non-null  float64\n",
      " 31  SurveyLength          49755 non-null  object \n",
      " 32  SurveyEase            49809 non-null  object \n",
      " 33  ConvertedCompYearly   20767 non-null  float64\n",
      " 34  JobSat                25793 non-null  float64\n",
      "dtypes: float64(8), object(27)\n",
      "memory usage: 15.5+ MB\n"
     ]
    }
   ],
   "source": [
    "df.info()"
   ]
  },
  {
   "cell_type": "code",
   "execution_count": 14,
   "id": "f844e860-0e8e-4825-8549-7ea0dbdff808",
   "metadata": {},
   "outputs": [
    {
     "name": "stdout",
     "output_type": "stream",
     "text": [
      "18       Less than 1 year\n",
      "37       Less than 1 year\n",
      "47       Less than 1 year\n",
      "63       Less than 1 year\n",
      "145      Less than 1 year\n",
      "               ...       \n",
      "57841    Less than 1 year\n",
      "57878    Less than 1 year\n",
      "57886    Less than 1 year\n",
      "57922    Less than 1 year\n",
      "57970    Less than 1 year\n",
      "Name: YearsCodePro, Length: 2555, dtype: object\n"
     ]
    }
   ],
   "source": [
    "non_numeric_values = df['YearsCodePro'][df['YearsCodePro'].str.contains(r'[^\\d\\.]', na=False)]\n",
    "print(non_numeric_values)"
   ]
  },
  {
   "cell_type": "code",
   "execution_count": 15,
   "id": "e0c242be-d9e8-4009-9180-9924c4e4c1d0",
   "metadata": {},
   "outputs": [],
   "source": [
    "df['YearsCodePro'] = df['YearsCodePro'].replace({'Less than 1 year': 0.5})"
   ]
  },
  {
   "cell_type": "code",
   "execution_count": 16,
   "id": "71f99c9c-3f76-43cd-86b3-e2bd5ad00b61",
   "metadata": {},
   "outputs": [],
   "source": [
    "df['YearsCodePro'] = df['YearsCodePro'].replace({'More than 50 years': 50.5})"
   ]
  },
  {
   "cell_type": "code",
   "execution_count": 17,
   "id": "8950a3df-499b-4c54-9bea-8528203bd8ef",
   "metadata": {},
   "outputs": [],
   "source": [
    "df['YearsCodePro'] = df['YearsCodePro'].astype(float)"
   ]
  },
  {
   "cell_type": "code",
   "execution_count": 18,
   "id": "bcf97e34-40bc-4070-becd-29958c59c885",
   "metadata": {},
   "outputs": [
    {
     "name": "stdout",
     "output_type": "stream",
     "text": [
      "<class 'pandas.core.frame.DataFrame'>\n",
      "RangeIndex: 58061 entries, 0 to 58060\n",
      "Data columns (total 35 columns):\n",
      " #   Column                Non-Null Count  Dtype  \n",
      "---  ------                --------------  -----  \n",
      " 0   MainBranch            58061 non-null  object \n",
      " 1   Age                   58061 non-null  object \n",
      " 2   RemoteWork            48673 non-null  object \n",
      " 3   EdLevel               53889 non-null  object \n",
      " 4   YearsCode             53076 non-null  float64\n",
      " 5   YearsCodePro          45818 non-null  float64\n",
      " 6   OrgSize               42136 non-null  object \n",
      " 7   Country               52201 non-null  object \n",
      " 8   CompTotal             29886 non-null  float64\n",
      " 9   SOVisitFreq           52758 non-null  object \n",
      " 10  SOAccount             52776 non-null  object \n",
      " 11  SOPartFreq            40057 non-null  object \n",
      " 12  SOComm                52411 non-null  object \n",
      " 13  AISelect              53958 non-null  object \n",
      " 14  AISent                40721 non-null  object \n",
      " 15  AIAcc                 33163 non-null  object \n",
      " 16  AIComplex             32910 non-null  object \n",
      " 17  AIThreat              39656 non-null  object \n",
      " 18  TBranch               39414 non-null  object \n",
      " 19  ICorPM                26387 non-null  object \n",
      " 20  WorkExp               26274 non-null  float64\n",
      " 21  Knowledge_1           25383 non-null  object \n",
      " 22  Knowledge_2           24818 non-null  object \n",
      " 23  Knowledge_3           24875 non-null  object \n",
      " 24  TimeSearching         25589 non-null  object \n",
      " 25  TimeAnswering         25530 non-null  object \n",
      " 26  ProfessionalCloud     25231 non-null  object \n",
      " 27  ProfessionalQuestion  25506 non-null  object \n",
      " 28  JobSatPoints_1        25972 non-null  float64\n",
      " 29  JobSatPoints_4        26031 non-null  float64\n",
      " 30  JobSatPoints_5        26052 non-null  float64\n",
      " 31  SurveyLength          49755 non-null  object \n",
      " 32  SurveyEase            49809 non-null  object \n",
      " 33  ConvertedCompYearly   20767 non-null  float64\n",
      " 34  JobSat                25793 non-null  float64\n",
      "dtypes: float64(9), object(26)\n",
      "memory usage: 15.5+ MB\n"
     ]
    }
   ],
   "source": [
    "df.info()"
   ]
  },
  {
   "cell_type": "code",
   "execution_count": 19,
   "id": "33da265b-0b7c-420f-af2f-1207def89dd4",
   "metadata": {},
   "outputs": [],
   "source": [
    "#Все конвертувалось правильно.\n"
   ]
  },
  {
   "cell_type": "code",
   "execution_count": 20,
   "id": "dcc2a5d2-1502-4f51-b365-b3a698b4dd81",
   "metadata": {},
   "outputs": [],
   "source": [
    "#3 Проведіть видалення викидів у числових даних. Для кожної числової ознаки визначте нижній і верхній квантилі на рівні 1% та 99%. Видаліть значення, що знаходяться поза цими квантилями (тобто значення, які можна вважати викидами). Відобразіть кількість видалених рядків для кожної ознаки та зробіть висновки про поширеність викидів у даних."
   ]
  },
  {
   "cell_type": "code",
   "execution_count": 21,
   "id": "d1c05020-9943-4142-ac4a-e933d8adacb4",
   "metadata": {},
   "outputs": [],
   "source": [
    "# Знайдемо числові стовпці\n",
    "numeric_cols = df.select_dtypes(include=['float64', 'int64']).columns"
   ]
  },
  {
   "cell_type": "code",
   "execution_count": 22,
   "id": "7b4ff1b2-4426-40c6-b206-91443d56161b",
   "metadata": {},
   "outputs": [
    {
     "data": {
      "text/plain": [
       "Index(['YearsCode', 'YearsCodePro', 'CompTotal', 'WorkExp', 'JobSatPoints_1',\n",
       "       'JobSatPoints_4', 'JobSatPoints_5', 'ConvertedCompYearly', 'JobSat'],\n",
       "      dtype='object')"
      ]
     },
     "execution_count": 22,
     "metadata": {},
     "output_type": "execute_result"
    }
   ],
   "source": [
    "numeric_cols"
   ]
  },
  {
   "cell_type": "code",
   "execution_count": 23,
   "id": "b84593ae-4714-470d-a0cd-54fb37b6ec88",
   "metadata": {},
   "outputs": [
    {
     "data": {
      "text/plain": [
       "58061"
      ]
     },
     "execution_count": 23,
     "metadata": {},
     "output_type": "execute_result"
    }
   ],
   "source": [
    "original_size = df.shape[0]\n",
    "original_size"
   ]
  },
  {
   "cell_type": "code",
   "execution_count": 24,
   "id": "557fd376-f244-40bb-afac-b56d2e6647f8",
   "metadata": {},
   "outputs": [
    {
     "name": "stdout",
     "output_type": "stream",
     "text": [
      "Кількість рядків після видалення викидів для стовпця YearsCode: 52978\n",
      "Кількість рядків після видалення викидів для стовпця YearsCodePro: 49227\n",
      "Кількість рядків після видалення викидів для стовпця CompTotal: 46610\n",
      "Кількість рядків після видалення викидів для стовпця WorkExp: 45423\n",
      "Кількість рядків після видалення викидів для стовпця JobSatPoints_1: 44517\n",
      "Кількість рядків після видалення викидів для стовпця JobSatPoints_4: 43615\n",
      "Кількість рядків після видалення викидів для стовпця JobSatPoints_5: 42849\n",
      "Кількість рядків після видалення викидів для стовпця ConvertedCompYearly: 41374\n",
      "Кількість рядків після видалення викидів для стовпця JobSat: 40611\n",
      "<class 'pandas.core.frame.DataFrame'>\n",
      "Index: 40611 entries, 0 to 58060\n",
      "Data columns (total 35 columns):\n",
      " #   Column                Non-Null Count  Dtype  \n",
      "---  ------                --------------  -----  \n",
      " 0   MainBranch            40611 non-null  object \n",
      " 1   Age                   40611 non-null  object \n",
      " 2   RemoteWork            33960 non-null  object \n",
      " 3   EdLevel               36439 non-null  object \n",
      " 4   YearsCode             35661 non-null  float64\n",
      " 5   YearsCodePro          30570 non-null  float64\n",
      " 6   OrgSize               28269 non-null  object \n",
      " 7   Country               34934 non-null  object \n",
      " 8   CompTotal             19241 non-null  float64\n",
      " 9   SOVisitFreq           35863 non-null  object \n",
      " 10  SOAccount             35876 non-null  object \n",
      " 11  SOPartFreq            27208 non-null  object \n",
      " 12  SOComm                35549 non-null  object \n",
      " 13  AISelect              36746 non-null  object \n",
      " 14  AISent                27563 non-null  object \n",
      " 15  AIAcc                 22557 non-null  object \n",
      " 16  AIComplex             22365 non-null  object \n",
      " 17  AIThreat              26576 non-null  object \n",
      " 18  TBranch               26168 non-null  object \n",
      " 19  ICorPM                16299 non-null  object \n",
      " 20  WorkExp               16244 non-null  float64\n",
      " 21  Knowledge_1           15630 non-null  object \n",
      " 22  Knowledge_2           15281 non-null  object \n",
      " 23  Knowledge_3           15305 non-null  object \n",
      " 24  TimeSearching         15716 non-null  object \n",
      " 25  TimeAnswering         15688 non-null  object \n",
      " 26  ProfessionalCloud     15489 non-null  object \n",
      " 27  ProfessionalQuestion  15658 non-null  object \n",
      " 28  JobSatPoints_1        15991 non-null  float64\n",
      " 29  JobSatPoints_4        16017 non-null  float64\n",
      " 30  JobSatPoints_5        16038 non-null  float64\n",
      " 31  SurveyLength          33146 non-null  object \n",
      " 32  SurveyEase            33179 non-null  object \n",
      " 33  ConvertedCompYearly   12842 non-null  float64\n",
      " 34  JobSat                15852 non-null  float64\n",
      "dtypes: float64(9), object(26)\n",
      "memory usage: 11.2+ MB\n"
     ]
    }
   ],
   "source": [
    "import numpy as np\n",
    "\n",
    "# Список стовпців, для яких потрібно видалити викиди\n",
    "columns_to_clean = [\n",
    "    'YearsCode', \n",
    "    'YearsCodePro', \n",
    "    'CompTotal', \n",
    "    'WorkExp', \n",
    "    'JobSatPoints_1', \n",
    "    'JobSatPoints_4', \n",
    "    'JobSatPoints_5', \n",
    "    'ConvertedCompYearly', \n",
    "    'JobSat'\n",
    "]\n",
    "\n",
    "# Початковий DataFrame\n",
    "df = df.copy()  # Зробіть копію, якщо потрібно зберегти початкові дані\n",
    "\n",
    "# Очищення даних для кожного стовпця\n",
    "for column in columns_to_clean:\n",
    "    # Обчислюємо квантилі 5% та 95%\n",
    "    lower_bound = df[column].quantile(0.05)\n",
    "    upper_bound = df[column].quantile(0.95)\n",
    "    \n",
    "    # Фільтруємо дані з урахуванням пропусків (NaN)\n",
    "    df_cleaned = df[((df[column] >= lower_bound) & (df[column] <= upper_bound)) | (df[column].isna())]\n",
    "    \n",
    "    # Перевіряємо розмір нового DataFrame після видалення викидів\n",
    "    print(f'Кількість рядків після видалення викидів для стовпця {column}: {df_cleaned.shape[0]}')\n",
    "    \n",
    "    # Повертаємося до оновленого DataFrame\n",
    "    df = df_cleaned.copy()  # Зберігаємо очищений DataFrame\n",
    "\n",
    "# Огляд фінального очищеного DataFrame\n",
    "df.info()\n"
   ]
  },
  {
   "cell_type": "code",
   "execution_count": 25,
   "id": "fff9a05c-ca5a-4880-a643-75e38e30cb19",
   "metadata": {},
   "outputs": [],
   "source": [
    "#YearsCode: видалено 5082 рядків \n",
    "#YearsCodePro: видалено 3751 рядок \n",
    "#CompTotal: видалено 1617 рядків\n",
    "#WorkExp: видалено 1196 рядків \n",
    "#JobSatPoints_1: видалено 906 рядків \n",
    "#JobSatPoints_4: видалено 902 рядки \n",
    "#JobSatPoints_5: видалено 766 рядків \n",
    "#ConvertedCompYearly: видалено 1475  рядків \n",
    "#JobSat: видалено 763 рядків"
   ]
  },
  {
   "cell_type": "code",
   "execution_count": 26,
   "id": "79901628-370f-4a96-96f8-ee3bfb0c9d13",
   "metadata": {},
   "outputs": [],
   "source": [
    "# усіх вказаних стовпців, найбільша кількість рядків було видалено з YearsCode (5082 рядків) та YearsCodePro (3751 рядок), що вказує на можливу проблему з якістю даних у цих категоріях."
   ]
  },
  {
   "cell_type": "code",
   "execution_count": 27,
   "id": "faa1ff8c-6cca-4792-b7bd-18cb11359a3a",
   "metadata": {},
   "outputs": [],
   "source": [
    "#4 Видаліть усі стовпці, у яких пропущено 50% або більше значень."
   ]
  },
  {
   "cell_type": "code",
   "execution_count": 28,
   "id": "90a1923a-83b5-4bf9-901b-e693d6dfbb78",
   "metadata": {},
   "outputs": [],
   "source": [
    "# Обчислюємо поріг усі стовпці, у яких пропущено 50%  значень\n",
    "threshold = len(df) * 0.5\n"
   ]
  },
  {
   "cell_type": "code",
   "execution_count": 29,
   "id": "83281cbf-e3de-41dd-9b49-1727e2b83746",
   "metadata": {},
   "outputs": [
    {
     "data": {
      "text/plain": [
       "20305.5"
      ]
     },
     "execution_count": 29,
     "metadata": {},
     "output_type": "execute_result"
    }
   ],
   "source": [
    "threshold"
   ]
  },
  {
   "cell_type": "code",
   "execution_count": 30,
   "id": "e51e29fc-669d-4ee0-8dc8-49bfa4997955",
   "metadata": {},
   "outputs": [
    {
     "name": "stdout",
     "output_type": "stream",
     "text": [
      "<class 'pandas.core.frame.DataFrame'>\n",
      "Index: 40611 entries, 0 to 58060\n",
      "Data columns (total 35 columns):\n",
      " #   Column                Non-Null Count  Dtype  \n",
      "---  ------                --------------  -----  \n",
      " 0   MainBranch            40611 non-null  object \n",
      " 1   Age                   40611 non-null  object \n",
      " 2   RemoteWork            33960 non-null  object \n",
      " 3   EdLevel               36439 non-null  object \n",
      " 4   YearsCode             35661 non-null  float64\n",
      " 5   YearsCodePro          30570 non-null  float64\n",
      " 6   OrgSize               28269 non-null  object \n",
      " 7   Country               34934 non-null  object \n",
      " 8   CompTotal             19241 non-null  float64\n",
      " 9   SOVisitFreq           35863 non-null  object \n",
      " 10  SOAccount             35876 non-null  object \n",
      " 11  SOPartFreq            27208 non-null  object \n",
      " 12  SOComm                35549 non-null  object \n",
      " 13  AISelect              36746 non-null  object \n",
      " 14  AISent                27563 non-null  object \n",
      " 15  AIAcc                 22557 non-null  object \n",
      " 16  AIComplex             22365 non-null  object \n",
      " 17  AIThreat              26576 non-null  object \n",
      " 18  TBranch               26168 non-null  object \n",
      " 19  ICorPM                16299 non-null  object \n",
      " 20  WorkExp               16244 non-null  float64\n",
      " 21  Knowledge_1           15630 non-null  object \n",
      " 22  Knowledge_2           15281 non-null  object \n",
      " 23  Knowledge_3           15305 non-null  object \n",
      " 24  TimeSearching         15716 non-null  object \n",
      " 25  TimeAnswering         15688 non-null  object \n",
      " 26  ProfessionalCloud     15489 non-null  object \n",
      " 27  ProfessionalQuestion  15658 non-null  object \n",
      " 28  JobSatPoints_1        15991 non-null  float64\n",
      " 29  JobSatPoints_4        16017 non-null  float64\n",
      " 30  JobSatPoints_5        16038 non-null  float64\n",
      " 31  SurveyLength          33146 non-null  object \n",
      " 32  SurveyEase            33179 non-null  object \n",
      " 33  ConvertedCompYearly   12842 non-null  float64\n",
      " 34  JobSat                15852 non-null  float64\n",
      "dtypes: float64(9), object(26)\n",
      "memory usage: 11.2+ MB\n"
     ]
    }
   ],
   "source": [
    "df.info()"
   ]
  },
  {
   "cell_type": "code",
   "execution_count": 31,
   "id": "82373afa-819a-44aa-ba95-1581e5beb3bd",
   "metadata": {},
   "outputs": [],
   "source": [
    "# Видаляємо стовпці, в яких пропущено 50% або більше значень\n",
    "df_cleaned = df.dropna(thresh=threshold, axis=1)"
   ]
  },
  {
   "cell_type": "code",
   "execution_count": 32,
   "id": "0007ec61-945e-4878-90bc-b3be08a61320",
   "metadata": {},
   "outputs": [],
   "source": [
    "# Оновлюємо початковий DataFrame\n",
    "df = df_cleaned.copy()"
   ]
  },
  {
   "cell_type": "code",
   "execution_count": 33,
   "id": "dbc5aba2-b175-4636-a08b-f6d1bd998085",
   "metadata": {},
   "outputs": [
    {
     "name": "stdout",
     "output_type": "stream",
     "text": [
      "<class 'pandas.core.frame.DataFrame'>\n",
      "Index: 40611 entries, 0 to 58060\n",
      "Data columns (total 20 columns):\n",
      " #   Column        Non-Null Count  Dtype  \n",
      "---  ------        --------------  -----  \n",
      " 0   MainBranch    40611 non-null  object \n",
      " 1   Age           40611 non-null  object \n",
      " 2   RemoteWork    33960 non-null  object \n",
      " 3   EdLevel       36439 non-null  object \n",
      " 4   YearsCode     35661 non-null  float64\n",
      " 5   YearsCodePro  30570 non-null  float64\n",
      " 6   OrgSize       28269 non-null  object \n",
      " 7   Country       34934 non-null  object \n",
      " 8   SOVisitFreq   35863 non-null  object \n",
      " 9   SOAccount     35876 non-null  object \n",
      " 10  SOPartFreq    27208 non-null  object \n",
      " 11  SOComm        35549 non-null  object \n",
      " 12  AISelect      36746 non-null  object \n",
      " 13  AISent        27563 non-null  object \n",
      " 14  AIAcc         22557 non-null  object \n",
      " 15  AIComplex     22365 non-null  object \n",
      " 16  AIThreat      26576 non-null  object \n",
      " 17  TBranch       26168 non-null  object \n",
      " 18  SurveyLength  33146 non-null  object \n",
      " 19  SurveyEase    33179 non-null  object \n",
      "dtypes: float64(2), object(18)\n",
      "memory usage: 6.5+ MB\n"
     ]
    }
   ],
   "source": [
    "# Огляд очищеного DataFrame\n",
    "df.info()"
   ]
  },
  {
   "cell_type": "code",
   "execution_count": 34,
   "id": "7cf05804-deb8-4bc4-9d38-b8b1db2fe4b8",
   "metadata": {},
   "outputs": [],
   "source": [
    "# 5 Для решти стовпців з пропусками заповніть або видаліть пропущені значення. Обґрунтуйте ваш вибір методу заповнення (або видалення) для кожного стовпця."
   ]
  },
  {
   "cell_type": "code",
   "execution_count": 35,
   "id": "cefc6d6d-ce65-4ebf-97e2-2d6d799a17cd",
   "metadata": {},
   "outputs": [],
   "source": [
    "#Заповніть найчастішим\n",
    "#RemoteWork   Варто заповнити найчастішим значенням (модою) ,оскільки це Hybrid ,а це і вона відповідає найбільшій частці респондентів.\n",
    "#EdLevel  Варто заповнити найпоширенішим значенням, оскільки велика кількість респондентів може мати схожий рівень освіти.\n",
    "#SOVisitFreq. Варто заповнити найчастішим ,оскільки відвідування Stack Overflow мають схожі відповіді\n",
    "#SOPartFreq Варто заповнити найчастішим ,оскільки участь в  SOPartFreq мають схожі відповіді\n",
    "#SOComm Варто заповнити найчастішим ,оскільки залученість  в  SOComm мають схожі відповіді\n",
    "#AISelect Це стосується вибору інструментів штучного інтелекту. Заповнення модою є розумним варіантом.\n",
    "#AISent  Оскільки більше третини даних відсутні, можна  заповнити модою,бо потрібне для аналізу далі.\n",
    "#AIAcc   Оскільки майже половину даних відсутні, можна  заповнити модою,бо потрібне для аналізу далі.\n",
    "#AIComplex  Оскільки майже половину даних відсутні, можна  заповнити модою,бо потрібне для аналізу далі.\n",
    "#'AIThreat', Оскільки майже половину даних відсутні, можна  заповнити модою,бо потрібне для аналізу далі.\n",
    "#SurveyLength найчастішим бо мало пропусків ,і багато відповідей Appropriate in length\n",
    "#Country  Найкращим рішенням буде мода,потрібно в наступному завданні\n",
    "#AIThreat  Чи сприймає респондент AI як загрозу для своєї роботи.Найкращим рішенням буде мода,бо в наступних задваннях ,але я б видалив.\n",
    "#Заповніть середнім\n",
    "#YearsCode Оскільки це числова змінна (кількість років програмування), пропущені значення можна заповнити середнім значенням.\n",
    "#YearsCodePro Ситуація подібна до стовпця YearsCode. Пропущені значення можна заповнитисереднім значенням, оскільки респонденти можуть мати схожий досвід професійного програмування.\n",
    "\n",
    "\n",
    "#Видаліть \n",
    "#OrgSize Найкращим рішенням буде видалити, оскільки розмір організацій може бути абсолютно різним. і результати можуть бути дуже спотвореними\n",
    "#SOAccount Наявність облікового запису на Stack Overflow. Він або є або нема.  Мода створить великий перенахил.\n",
    "#TBranch — Основна технологічна галузь, в якій працює респондент.Варто видалити ,бо буде величезне відхилення при моді і дані будуть не об'єктивні  .\n",
    "#SurveyEase - Варто видалити ,бо різниця між да і ні досить маленька.Бо буде величезне відхилення при моді і дані будуть не об'єктивні "
   ]
  },
  {
   "cell_type": "code",
   "execution_count": 36,
   "id": "5fef3afc-bd83-41f0-98f6-4fadfd03ecef",
   "metadata": {},
   "outputs": [
    {
     "name": "stdout",
     "output_type": "stream",
     "text": [
      "Кількість пропусків після обробки:\n",
      "MainBranch      0\n",
      "Age             0\n",
      "RemoteWork      0\n",
      "EdLevel         0\n",
      "YearsCode       0\n",
      "YearsCodePro    0\n",
      "Country         0\n",
      "SOVisitFreq     0\n",
      "SOPartFreq      0\n",
      "SOComm          0\n",
      "AISelect        0\n",
      "AISent          0\n",
      "AIAcc           0\n",
      "AIComplex       0\n",
      "AIThreat        0\n",
      "SurveyLength    0\n",
      "dtype: int64\n"
     ]
    }
   ],
   "source": [
    "# Список стовпців, які потрібно заповнити модою\n",
    "mode_columns = [\n",
    "    'RemoteWork', 'EdLevel', 'SOVisitFreq', \n",
    "    'SOPartFreq', 'SOComm', 'AISelect', \n",
    "    'AISent', 'AIAcc', 'Country', 'AIComplex', \n",
    "    'SurveyLength', 'AIThreat'\n",
    "]\n",
    "\n",
    "# Заповнення пропусків модою\n",
    "for col in mode_columns:\n",
    "    mode_value = df[col].mode()[0]  # Знайти моду\n",
    "    df[col] = df[col].fillna(mode_value)  # Заповнити пропуски модою без inplace\n",
    "\n",
    "# Список стовпців, які потрібно заповнити середнім значенням\n",
    "mean_columns = ['YearsCode', 'YearsCodePro']\n",
    "\n",
    "# Заповнення пропусків середнім значенням\n",
    "for col in mean_columns:\n",
    "    mean_value = df[col].mean()  # Знайти середнє\n",
    "    df[col] = df[col].fillna(mean_value)  # Заповнити пропуски середнім без inplace\n",
    "\n",
    "# Список стовпців, які потрібно видалити\n",
    "columns_to_drop = [\n",
    "    'OrgSize',  'SOAccount', \n",
    "    'TBranch', 'SurveyEase'\n",
    "]\n",
    "\n",
    "# Видалення зазначених стовпців\n",
    "df.drop(columns=columns_to_drop, inplace=True)  # Видалити зазначені стовпці\n",
    "\n",
    "# Перевірка результатів\n",
    "print(\"Кількість пропусків після обробки:\")\n",
    "print(df.isnull().sum())\n"
   ]
  },
  {
   "cell_type": "code",
   "execution_count": 37,
   "id": "ebe5acba-9678-416f-9609-ee19b1007f01",
   "metadata": {},
   "outputs": [],
   "source": [
    "#6 Проведіть дослідження думок українських IT-спеціалістів щодо штучного інтелекту. Створіть новий датафрейм, який включатиме тільки респондентів з України. Визначте, як українські спеціалісти ставляться до штучного інтелекту: наскільки часто вони використовують AI, як оцінюють його складність, довіру до нього та чи бачать загрозу у своїй роботі."
   ]
  },
  {
   "cell_type": "code",
   "execution_count": 38,
   "id": "2d4883bb-73b8-4c04-876e-98ef4d08a8ef",
   "metadata": {},
   "outputs": [
    {
     "data": {
      "text/html": [
       "<div>\n",
       "<style scoped>\n",
       "    .dataframe tbody tr th:only-of-type {\n",
       "        vertical-align: middle;\n",
       "    }\n",
       "\n",
       "    .dataframe tbody tr th {\n",
       "        vertical-align: top;\n",
       "    }\n",
       "\n",
       "    .dataframe thead th {\n",
       "        text-align: right;\n",
       "    }\n",
       "</style>\n",
       "<table border=\"1\" class=\"dataframe\">\n",
       "  <thead>\n",
       "    <tr style=\"text-align: right;\">\n",
       "      <th></th>\n",
       "      <th>MainBranch</th>\n",
       "      <th>Age</th>\n",
       "      <th>RemoteWork</th>\n",
       "      <th>EdLevel</th>\n",
       "      <th>YearsCode</th>\n",
       "      <th>YearsCodePro</th>\n",
       "      <th>Country</th>\n",
       "      <th>SOVisitFreq</th>\n",
       "      <th>SOPartFreq</th>\n",
       "      <th>SOComm</th>\n",
       "      <th>AISelect</th>\n",
       "      <th>AISent</th>\n",
       "      <th>AIAcc</th>\n",
       "      <th>AIComplex</th>\n",
       "      <th>AIThreat</th>\n",
       "      <th>SurveyLength</th>\n",
       "    </tr>\n",
       "  </thead>\n",
       "  <tbody>\n",
       "    <tr>\n",
       "      <th>25</th>\n",
       "      <td>I am a developer by profession</td>\n",
       "      <td>25-34 years old</td>\n",
       "      <td>Remote</td>\n",
       "      <td>Professional degree (JD, MD, Ph.D, Ed.D, etc.)</td>\n",
       "      <td>7.0</td>\n",
       "      <td>6.000000</td>\n",
       "      <td>Ukraine</td>\n",
       "      <td>Multiple times per day</td>\n",
       "      <td>Daily or almost daily</td>\n",
       "      <td>Yes, definitely</td>\n",
       "      <td>Yes</td>\n",
       "      <td>Very favorable</td>\n",
       "      <td>Somewhat trust</td>\n",
       "      <td>Bad at handling complex tasks</td>\n",
       "      <td>No</td>\n",
       "      <td>Appropriate in length</td>\n",
       "    </tr>\n",
       "    <tr>\n",
       "      <th>122</th>\n",
       "      <td>I am a developer by profession</td>\n",
       "      <td>35-44 years old</td>\n",
       "      <td>Remote</td>\n",
       "      <td>Master’s degree (M.A., M.S., M.Eng., MBA, etc.)</td>\n",
       "      <td>22.0</td>\n",
       "      <td>18.000000</td>\n",
       "      <td>Ukraine</td>\n",
       "      <td>Daily or almost daily</td>\n",
       "      <td>A few times per month or weekly</td>\n",
       "      <td>Yes, somewhat</td>\n",
       "      <td>No, and I don't plan to</td>\n",
       "      <td>Favorable</td>\n",
       "      <td>Somewhat trust</td>\n",
       "      <td>Bad at handling complex tasks</td>\n",
       "      <td>No</td>\n",
       "      <td>Appropriate in length</td>\n",
       "    </tr>\n",
       "    <tr>\n",
       "      <th>124</th>\n",
       "      <td>I am a developer by profession</td>\n",
       "      <td>18-24 years old</td>\n",
       "      <td>Remote</td>\n",
       "      <td>Master’s degree (M.A., M.S., M.Eng., MBA, etc.)</td>\n",
       "      <td>5.0</td>\n",
       "      <td>3.000000</td>\n",
       "      <td>Ukraine</td>\n",
       "      <td>Daily or almost daily</td>\n",
       "      <td>A few times per week</td>\n",
       "      <td>Yes, somewhat</td>\n",
       "      <td>Yes</td>\n",
       "      <td>Favorable</td>\n",
       "      <td>Somewhat trust</td>\n",
       "      <td>Good, but not great at handling complex tasks</td>\n",
       "      <td>No</td>\n",
       "      <td>Appropriate in length</td>\n",
       "    </tr>\n",
       "    <tr>\n",
       "      <th>280</th>\n",
       "      <td>I am a developer by profession</td>\n",
       "      <td>18-24 years old</td>\n",
       "      <td>Hybrid (some remote, some in-person)</td>\n",
       "      <td>Master’s degree (M.A., M.S., M.Eng., MBA, etc.)</td>\n",
       "      <td>6.0</td>\n",
       "      <td>2.000000</td>\n",
       "      <td>Ukraine</td>\n",
       "      <td>A few times per week</td>\n",
       "      <td>Less than once per month or monthly</td>\n",
       "      <td>Yes, somewhat</td>\n",
       "      <td>Yes</td>\n",
       "      <td>Favorable</td>\n",
       "      <td>Somewhat trust</td>\n",
       "      <td>Good, but not great at handling complex tasks</td>\n",
       "      <td>I'm not sure</td>\n",
       "      <td>Appropriate in length</td>\n",
       "    </tr>\n",
       "    <tr>\n",
       "      <th>292</th>\n",
       "      <td>I am a developer by profession</td>\n",
       "      <td>25-34 years old</td>\n",
       "      <td>Hybrid (some remote, some in-person)</td>\n",
       "      <td>Some college/university study without earning ...</td>\n",
       "      <td>8.0</td>\n",
       "      <td>4.000000</td>\n",
       "      <td>Ukraine</td>\n",
       "      <td>A few times per month or weekly</td>\n",
       "      <td>I have never participated in Q&amp;A on Stack Over...</td>\n",
       "      <td>No, not really</td>\n",
       "      <td>Yes</td>\n",
       "      <td>Favorable</td>\n",
       "      <td>Somewhat distrust</td>\n",
       "      <td>Bad at handling complex tasks</td>\n",
       "      <td>I'm not sure</td>\n",
       "      <td>Appropriate in length</td>\n",
       "    </tr>\n",
       "    <tr>\n",
       "      <th>...</th>\n",
       "      <td>...</td>\n",
       "      <td>...</td>\n",
       "      <td>...</td>\n",
       "      <td>...</td>\n",
       "      <td>...</td>\n",
       "      <td>...</td>\n",
       "      <td>...</td>\n",
       "      <td>...</td>\n",
       "      <td>...</td>\n",
       "      <td>...</td>\n",
       "      <td>...</td>\n",
       "      <td>...</td>\n",
       "      <td>...</td>\n",
       "      <td>...</td>\n",
       "      <td>...</td>\n",
       "      <td>...</td>\n",
       "    </tr>\n",
       "    <tr>\n",
       "      <th>56793</th>\n",
       "      <td>I am a developer by profession</td>\n",
       "      <td>25-34 years old</td>\n",
       "      <td>Hybrid (some remote, some in-person)</td>\n",
       "      <td>Master’s degree (M.A., M.S., M.Eng., MBA, etc.)</td>\n",
       "      <td>9.0</td>\n",
       "      <td>8.000000</td>\n",
       "      <td>Ukraine</td>\n",
       "      <td>A few times per week</td>\n",
       "      <td>Less than once per month or monthly</td>\n",
       "      <td>No, not really</td>\n",
       "      <td>Yes</td>\n",
       "      <td>Favorable</td>\n",
       "      <td>Somewhat trust</td>\n",
       "      <td>Bad at handling complex tasks</td>\n",
       "      <td>No</td>\n",
       "      <td>Appropriate in length</td>\n",
       "    </tr>\n",
       "    <tr>\n",
       "      <th>56976</th>\n",
       "      <td>I am learning to code</td>\n",
       "      <td>18-24 years old</td>\n",
       "      <td>Hybrid (some remote, some in-person)</td>\n",
       "      <td>Secondary school (e.g. American high school, G...</td>\n",
       "      <td>4.0</td>\n",
       "      <td>9.159601</td>\n",
       "      <td>Ukraine</td>\n",
       "      <td>A few times per week</td>\n",
       "      <td>I have never participated in Q&amp;A on Stack Over...</td>\n",
       "      <td>No, not at all</td>\n",
       "      <td>Yes</td>\n",
       "      <td>Indifferent</td>\n",
       "      <td>Neither trust nor distrust</td>\n",
       "      <td>Bad at handling complex tasks</td>\n",
       "      <td>No</td>\n",
       "      <td>Appropriate in length</td>\n",
       "    </tr>\n",
       "    <tr>\n",
       "      <th>56999</th>\n",
       "      <td>I am a developer by profession</td>\n",
       "      <td>35-44 years old</td>\n",
       "      <td>Hybrid (some remote, some in-person)</td>\n",
       "      <td>Some college/university study without earning ...</td>\n",
       "      <td>12.0</td>\n",
       "      <td>10.000000</td>\n",
       "      <td>Ukraine</td>\n",
       "      <td>A few times per month or weekly</td>\n",
       "      <td>Less than once per month or monthly</td>\n",
       "      <td>Neutral</td>\n",
       "      <td>No, but I plan to soon</td>\n",
       "      <td>Unsure</td>\n",
       "      <td>Somewhat trust</td>\n",
       "      <td>Bad at handling complex tasks</td>\n",
       "      <td>Yes</td>\n",
       "      <td>Appropriate in length</td>\n",
       "    </tr>\n",
       "    <tr>\n",
       "      <th>57070</th>\n",
       "      <td>I am a developer by profession</td>\n",
       "      <td>18-24 years old</td>\n",
       "      <td>Remote</td>\n",
       "      <td>Bachelor’s degree (B.A., B.S., B.Eng., etc.)</td>\n",
       "      <td>8.0</td>\n",
       "      <td>3.000000</td>\n",
       "      <td>Ukraine</td>\n",
       "      <td>A few times per month or weekly</td>\n",
       "      <td>Less than once per month or monthly</td>\n",
       "      <td>Neutral</td>\n",
       "      <td>No, and I don't plan to</td>\n",
       "      <td>Favorable</td>\n",
       "      <td>Somewhat trust</td>\n",
       "      <td>Bad at handling complex tasks</td>\n",
       "      <td>No</td>\n",
       "      <td>Appropriate in length</td>\n",
       "    </tr>\n",
       "    <tr>\n",
       "      <th>57562</th>\n",
       "      <td>I am a developer by profession</td>\n",
       "      <td>35-44 years old</td>\n",
       "      <td>Remote</td>\n",
       "      <td>Master’s degree (M.A., M.S., M.Eng., MBA, etc.)</td>\n",
       "      <td>26.0</td>\n",
       "      <td>20.000000</td>\n",
       "      <td>Ukraine</td>\n",
       "      <td>Daily or almost daily</td>\n",
       "      <td>Less than once per month or monthly</td>\n",
       "      <td>Not sure</td>\n",
       "      <td>No, and I don't plan to</td>\n",
       "      <td>Favorable</td>\n",
       "      <td>Somewhat trust</td>\n",
       "      <td>Bad at handling complex tasks</td>\n",
       "      <td>No</td>\n",
       "      <td>Appropriate in length</td>\n",
       "    </tr>\n",
       "  </tbody>\n",
       "</table>\n",
       "<p>1410 rows × 16 columns</p>\n",
       "</div>"
      ],
      "text/plain": [
       "                           MainBranch              Age  \\\n",
       "25     I am a developer by profession  25-34 years old   \n",
       "122    I am a developer by profession  35-44 years old   \n",
       "124    I am a developer by profession  18-24 years old   \n",
       "280    I am a developer by profession  18-24 years old   \n",
       "292    I am a developer by profession  25-34 years old   \n",
       "...                               ...              ...   \n",
       "56793  I am a developer by profession  25-34 years old   \n",
       "56976           I am learning to code  18-24 years old   \n",
       "56999  I am a developer by profession  35-44 years old   \n",
       "57070  I am a developer by profession  18-24 years old   \n",
       "57562  I am a developer by profession  35-44 years old   \n",
       "\n",
       "                                 RemoteWork  \\\n",
       "25                                   Remote   \n",
       "122                                  Remote   \n",
       "124                                  Remote   \n",
       "280    Hybrid (some remote, some in-person)   \n",
       "292    Hybrid (some remote, some in-person)   \n",
       "...                                     ...   \n",
       "56793  Hybrid (some remote, some in-person)   \n",
       "56976  Hybrid (some remote, some in-person)   \n",
       "56999  Hybrid (some remote, some in-person)   \n",
       "57070                                Remote   \n",
       "57562                                Remote   \n",
       "\n",
       "                                                 EdLevel  YearsCode  \\\n",
       "25        Professional degree (JD, MD, Ph.D, Ed.D, etc.)        7.0   \n",
       "122      Master’s degree (M.A., M.S., M.Eng., MBA, etc.)       22.0   \n",
       "124      Master’s degree (M.A., M.S., M.Eng., MBA, etc.)        5.0   \n",
       "280      Master’s degree (M.A., M.S., M.Eng., MBA, etc.)        6.0   \n",
       "292    Some college/university study without earning ...        8.0   \n",
       "...                                                  ...        ...   \n",
       "56793    Master’s degree (M.A., M.S., M.Eng., MBA, etc.)        9.0   \n",
       "56976  Secondary school (e.g. American high school, G...        4.0   \n",
       "56999  Some college/university study without earning ...       12.0   \n",
       "57070       Bachelor’s degree (B.A., B.S., B.Eng., etc.)        8.0   \n",
       "57562    Master’s degree (M.A., M.S., M.Eng., MBA, etc.)       26.0   \n",
       "\n",
       "       YearsCodePro  Country                      SOVisitFreq  \\\n",
       "25         6.000000  Ukraine           Multiple times per day   \n",
       "122       18.000000  Ukraine            Daily or almost daily   \n",
       "124        3.000000  Ukraine            Daily or almost daily   \n",
       "280        2.000000  Ukraine             A few times per week   \n",
       "292        4.000000  Ukraine  A few times per month or weekly   \n",
       "...             ...      ...                              ...   \n",
       "56793      8.000000  Ukraine             A few times per week   \n",
       "56976      9.159601  Ukraine             A few times per week   \n",
       "56999     10.000000  Ukraine  A few times per month or weekly   \n",
       "57070      3.000000  Ukraine  A few times per month or weekly   \n",
       "57562     20.000000  Ukraine            Daily or almost daily   \n",
       "\n",
       "                                              SOPartFreq           SOComm  \\\n",
       "25                                 Daily or almost daily  Yes, definitely   \n",
       "122                      A few times per month or weekly    Yes, somewhat   \n",
       "124                                 A few times per week    Yes, somewhat   \n",
       "280                  Less than once per month or monthly    Yes, somewhat   \n",
       "292    I have never participated in Q&A on Stack Over...   No, not really   \n",
       "...                                                  ...              ...   \n",
       "56793                Less than once per month or monthly   No, not really   \n",
       "56976  I have never participated in Q&A on Stack Over...   No, not at all   \n",
       "56999                Less than once per month or monthly          Neutral   \n",
       "57070                Less than once per month or monthly          Neutral   \n",
       "57562                Less than once per month or monthly         Not sure   \n",
       "\n",
       "                      AISelect          AISent                       AIAcc  \\\n",
       "25                         Yes  Very favorable              Somewhat trust   \n",
       "122    No, and I don't plan to       Favorable              Somewhat trust   \n",
       "124                        Yes       Favorable              Somewhat trust   \n",
       "280                        Yes       Favorable              Somewhat trust   \n",
       "292                        Yes       Favorable           Somewhat distrust   \n",
       "...                        ...             ...                         ...   \n",
       "56793                      Yes       Favorable              Somewhat trust   \n",
       "56976                      Yes     Indifferent  Neither trust nor distrust   \n",
       "56999   No, but I plan to soon          Unsure              Somewhat trust   \n",
       "57070  No, and I don't plan to       Favorable              Somewhat trust   \n",
       "57562  No, and I don't plan to       Favorable              Somewhat trust   \n",
       "\n",
       "                                           AIComplex      AIThreat  \\\n",
       "25                     Bad at handling complex tasks            No   \n",
       "122                    Bad at handling complex tasks            No   \n",
       "124    Good, but not great at handling complex tasks            No   \n",
       "280    Good, but not great at handling complex tasks  I'm not sure   \n",
       "292                    Bad at handling complex tasks  I'm not sure   \n",
       "...                                              ...           ...   \n",
       "56793                  Bad at handling complex tasks            No   \n",
       "56976                  Bad at handling complex tasks            No   \n",
       "56999                  Bad at handling complex tasks           Yes   \n",
       "57070                  Bad at handling complex tasks            No   \n",
       "57562                  Bad at handling complex tasks            No   \n",
       "\n",
       "                SurveyLength  \n",
       "25     Appropriate in length  \n",
       "122    Appropriate in length  \n",
       "124    Appropriate in length  \n",
       "280    Appropriate in length  \n",
       "292    Appropriate in length  \n",
       "...                      ...  \n",
       "56793  Appropriate in length  \n",
       "56976  Appropriate in length  \n",
       "56999  Appropriate in length  \n",
       "57070  Appropriate in length  \n",
       "57562  Appropriate in length  \n",
       "\n",
       "[1410 rows x 16 columns]"
      ]
     },
     "execution_count": 38,
     "metadata": {},
     "output_type": "execute_result"
    }
   ],
   "source": [
    "# Датафрейм українських IT-спеціалістів щодо штучного інтелекту.\n",
    "ukraine_df = df[df['Country'] == 'Ukraine']\n",
    "ukraine_df"
   ]
  },
  {
   "cell_type": "code",
   "execution_count": 39,
   "id": "ebfb39fb-d46f-43b4-b5f7-9898ce00c2ec",
   "metadata": {},
   "outputs": [
    {
     "data": {
      "text/plain": [
       "AISelect\n",
       "Yes                        1000\n",
       "No, but I plan to soon      209\n",
       "No, and I don't plan to     201\n",
       "Name: count, dtype: int64"
      ]
     },
     "execution_count": 39,
     "metadata": {},
     "output_type": "execute_result"
    }
   ],
   "source": [
    "#Частота використання AI\n",
    "usage_frequency = ukraine_df['AISelect'].value_counts()\n",
    "usage_frequency\n"
   ]
  },
  {
   "cell_type": "code",
   "execution_count": 40,
   "id": "4524fb2c-d147-43d1-8d45-d0385cf6b6d7",
   "metadata": {},
   "outputs": [],
   "source": [
    "#1000 українських IT-спеціалістів активно використовують штучний інтелект, що свідчить про високий інтерес до цієї технології."
   ]
  },
  {
   "cell_type": "code",
   "execution_count": 55,
   "id": "45b6cf7d-6386-440d-a6b0-b189fa205bf8",
   "metadata": {},
   "outputs": [
    {
     "data": {
      "text/plain": [
       "AIComplex\n",
       "Bad at handling complex tasks                    740\n",
       "Good, but not great at handling complex tasks    303\n",
       "Neither good or bad at handling complex tasks    254\n",
       "Very poor at handling complex tasks               90\n",
       "Very well at handling complex tasks               23\n",
       "Name: count, dtype: int64"
      ]
     },
     "execution_count": 55,
     "metadata": {},
     "output_type": "execute_result"
    }
   ],
   "source": [
    "#Оцінка складності AI\n",
    "complexity_rating = ukraine_df['AIComplex'].value_counts()\n",
    "complexity_rating"
   ]
  },
  {
   "cell_type": "code",
   "execution_count": 42,
   "id": "9d009a41-ed70-4a0c-8ba3-2e83089899ff",
   "metadata": {},
   "outputs": [],
   "source": [
    "#Результати показують, що 740 з 1410 українських IT-спеціалістів вважають, \n",
    "#що штучний інтелект має труднощі з обробкою складних завдань, що свідчить про побоювання щодо ефективності AI у складних ситуаціях."
   ]
  },
  {
   "cell_type": "code",
   "execution_count": 43,
   "id": "4f9d072b-e40a-4b2d-8797-825734502f12",
   "metadata": {},
   "outputs": [
    {
     "data": {
      "text/plain": [
       "AIAcc\n",
       "Somewhat trust                828\n",
       "Neither trust nor distrust    355\n",
       "Somewhat distrust             176\n",
       "Highly distrust                31\n",
       "Highly trust                   20\n",
       "Name: count, dtype: int64"
      ]
     },
     "execution_count": 43,
     "metadata": {},
     "output_type": "execute_result"
    }
   ],
   "source": [
    "#Довіра до AI\n",
    "trust_level = ukraine_df['AIAcc'].value_counts()\n",
    "trust_level"
   ]
  },
  {
   "cell_type": "code",
   "execution_count": 44,
   "id": "56ae3b9f-0b01-4f94-92bb-9a2bdfe8312c",
   "metadata": {},
   "outputs": [],
   "source": [
    "#Згідно з отриманими даними, 828 українських IT-спеціалістів \"певною мірою довіряють\" штучному інтелекту,\n",
    "#що свідчить про обережний оптимізм щодо його використання. Але й велика кількість не розподіляє до нього довіри."
   ]
  },
  {
   "cell_type": "code",
   "execution_count": 45,
   "id": "1f672abf-3ee8-4803-bc71-929f77ee580d",
   "metadata": {},
   "outputs": [
    {
     "data": {
      "text/plain": [
       "AIThreat\n",
       "No              968\n",
       "I'm not sure    309\n",
       "Yes             133\n",
       "Name: count, dtype: int64"
      ]
     },
     "execution_count": 45,
     "metadata": {},
     "output_type": "execute_result"
    }
   ],
   "source": [
    "# Загроза від AI\n",
    "threat_perception = ukraine_df['AIThreat'].value_counts()\n",
    "threat_perception"
   ]
  },
  {
   "cell_type": "code",
   "execution_count": 46,
   "id": "4b7ba566-4f28-4a6e-bbf8-c2d7f4c21fdc",
   "metadata": {},
   "outputs": [],
   "source": [
    "#Результати показують, що 968 українських IT-спеціалістів не вважають штучний інтелект загрозою, \n",
    "#що вказує на оптимістичний погляд на цю технологію.  Хоча деякі і побоюються ."
   ]
  },
  {
   "cell_type": "code",
   "execution_count": 47,
   "id": "92c9d2ea-96fc-47bc-8400-f4f01f21ef9b",
   "metadata": {},
   "outputs": [],
   "source": [
    "# Видаляємо стовпець 'Country' з датафрейму\n",
    "df.drop(columns=['Country'], inplace=True)\n",
    "\n"
   ]
  },
  {
   "cell_type": "code",
   "execution_count": 48,
   "id": "8bd93b82-a596-4652-a0bd-56e639330648",
   "metadata": {},
   "outputs": [
    {
     "data": {
      "text/plain": [
       "Index(['MainBranch', 'Age', 'RemoteWork', 'EdLevel', 'SOVisitFreq',\n",
       "       'SOPartFreq', 'SOComm', 'AISelect', 'AISent', 'AIAcc', 'AIComplex',\n",
       "       'AIThreat', 'SurveyLength'],\n",
       "      dtype='object')"
      ]
     },
     "execution_count": 48,
     "metadata": {},
     "output_type": "execute_result"
    }
   ],
   "source": [
    "df.select_dtypes(include=['object']).columns"
   ]
  },
  {
   "cell_type": "code",
   "execution_count": 49,
   "id": "38b15eac-ac26-45c3-8952-4940d10f791a",
   "metadata": {},
   "outputs": [
    {
     "data": {
      "text/plain": [
       "MainBranch      0\n",
       "Age             0\n",
       "RemoteWork      0\n",
       "EdLevel         0\n",
       "YearsCode       0\n",
       "YearsCodePro    0\n",
       "SOVisitFreq     0\n",
       "SOPartFreq      0\n",
       "SOComm          0\n",
       "AISelect        0\n",
       "AISent          0\n",
       "AIAcc           0\n",
       "AIComplex       0\n",
       "AIThreat        0\n",
       "SurveyLength    0\n",
       "dtype: int64"
      ]
     },
     "execution_count": 49,
     "metadata": {},
     "output_type": "execute_result"
    }
   ],
   "source": [
    "df.isnull().sum()"
   ]
  },
  {
   "cell_type": "code",
   "execution_count": 50,
   "id": "ff4b0146-c5ca-4fe6-9d7c-e734a114fce8",
   "metadata": {},
   "outputs": [],
   "source": [
    "#7 Перетворіть усі категоріальні змінні за допомогою методу One-Hot Encoding."
   ]
  },
  {
   "cell_type": "code",
   "execution_count": 51,
   "id": "a348c2a7-ea3e-4411-8409-8a888655881c",
   "metadata": {},
   "outputs": [
    {
     "name": "stdout",
     "output_type": "stream",
     "text": [
      "MainBranch: ['I am a developer by profession' 'I am learning to code'\n",
      " 'I code primarily as a hobby'\n",
      " 'I am not primarily a developer, but I write code sometimes as part of my work/studies'\n",
      " 'I used to be a developer by profession, but no longer am']\n",
      "Age: ['Under 18 years old' '35-44 years old' '18-24 years old'\n",
      " '45-54 years old' '25-34 years old' 'Prefer not to say' '55-64 years old'\n",
      " '65 years or older']\n",
      "RemoteWork: ['Remote' 'Hybrid (some remote, some in-person)' 'In-person']\n",
      "EdLevel: ['Primary/elementary school'\n",
      " 'Bachelor’s degree (B.A., B.S., B.Eng., etc.)'\n",
      " 'Some college/university study without earning a degree'\n",
      " 'Professional degree (JD, MD, Ph.D, Ed.D, etc.)'\n",
      " 'Master’s degree (M.A., M.S., M.Eng., MBA, etc.)'\n",
      " 'Associate degree (A.A., A.S., etc.)'\n",
      " 'Secondary school (e.g. American high school, German Realschule or Gymnasium, etc.)'\n",
      " 'Something else']\n",
      "SOVisitFreq: ['A few times per week' 'Multiple times per day' 'Daily or almost daily'\n",
      " 'Less than once per month or monthly' 'A few times per month or weekly']\n",
      "SOPartFreq: ['Less than once per month or monthly' 'Multiple times per day'\n",
      " 'Daily or almost daily' 'A few times per week'\n",
      " 'I have never participated in Q&A on Stack Overflow'\n",
      " 'A few times per month or weekly']\n",
      "SOComm: ['No, not really' 'Yes, definitely' 'Yes, somewhat' 'Neutral'\n",
      " 'No, not at all' 'Not sure']\n",
      "AISelect: ['Yes' \"No, and I don't plan to\" 'No, but I plan to soon']\n",
      "AISent: ['Very favorable' 'Favorable' 'Indifferent' 'Unsure' 'Unfavorable'\n",
      " 'Very unfavorable']\n",
      "AIAcc: ['Somewhat trust' 'Neither trust nor distrust' 'Somewhat distrust'\n",
      " 'Highly trust' 'Highly distrust']\n",
      "AIComplex: ['Bad at handling complex tasks'\n",
      " 'Good, but not great at handling complex tasks'\n",
      " 'Neither good or bad at handling complex tasks'\n",
      " 'Very well at handling complex tasks'\n",
      " 'Very poor at handling complex tasks']\n",
      "AIThreat: ['No' \"I'm not sure\" 'Yes']\n",
      "SurveyLength: ['Appropriate in length' 'Too long' 'Too short']\n"
     ]
    }
   ],
   "source": [
    "# Припустимо, ваш DataFrame називається df і ви вже визначили категоріальні стовпці\n",
    "categorical_columns = ['MainBranch', 'Age', 'RemoteWork', 'EdLevel', \n",
    "                       'SOVisitFreq', 'SOPartFreq', 'SOComm', \n",
    "                       'AISelect', 'AISent', 'AIAcc', \n",
    "                       'AIComplex', 'AIThreat', 'SurveyLength']\n",
    "for column in categorical_columns:\n",
    "    print(f\"{column}: {df[column].unique()}\")\n"
   ]
  },
  {
   "cell_type": "code",
   "execution_count": 52,
   "id": "3dc9ca6d-2bb3-4585-a602-9190c6b8eace",
   "metadata": {},
   "outputs": [
    {
     "name": "stdout",
     "output_type": "stream",
     "text": [
      "   YearsCode  YearsCodePro  MainBranch_I am learning to code  \\\n",
      "0  13.166877      9.159601                               0.0   \n",
      "1  20.000000     17.000000                               0.0   \n",
      "3   4.000000      9.159601                               0.0   \n",
      "4  10.000000      9.159601                               0.0   \n",
      "5   7.000000      7.000000                               0.0   \n",
      "\n",
      "   MainBranch_I am not primarily a developer, but I write code sometimes as part of my work/studies  \\\n",
      "0                                                0.0                                                  \n",
      "1                                                0.0                                                  \n",
      "3                                                0.0                                                  \n",
      "4                                                1.0                                                  \n",
      "5                                                0.0                                                  \n",
      "\n",
      "   MainBranch_I code primarily as a hobby  \\\n",
      "0                                     0.0   \n",
      "1                                     0.0   \n",
      "3                                     1.0   \n",
      "4                                     0.0   \n",
      "5                                     1.0   \n",
      "\n",
      "   MainBranch_I used to be a developer by profession, but no longer am  \\\n",
      "0                                                0.0                     \n",
      "1                                                0.0                     \n",
      "3                                                0.0                     \n",
      "4                                                0.0                     \n",
      "5                                                0.0                     \n",
      "\n",
      "   Age_25-34 years old  Age_35-44 years old  Age_45-54 years old  \\\n",
      "0                  0.0                  0.0                  0.0   \n",
      "1                  0.0                  1.0                  0.0   \n",
      "3                  0.0                  0.0                  0.0   \n",
      "4                  0.0                  1.0                  0.0   \n",
      "5                  0.0                  0.0                  1.0   \n",
      "\n",
      "   Age_55-64 years old  ...  AIAcc_Somewhat distrust  AIAcc_Somewhat trust  \\\n",
      "0                  0.0  ...                      0.0                   1.0   \n",
      "1                  0.0  ...                      0.0                   1.0   \n",
      "3                  0.0  ...                      0.0                   1.0   \n",
      "4                  0.0  ...                      0.0                   1.0   \n",
      "5                  0.0  ...                      0.0                   1.0   \n",
      "\n",
      "   AIComplex_Good, but not great at handling complex tasks  \\\n",
      "0                                                0.0         \n",
      "1                                                0.0         \n",
      "3                                                1.0         \n",
      "4                                                0.0         \n",
      "5                                                0.0         \n",
      "\n",
      "   AIComplex_Neither good or bad at handling complex tasks  \\\n",
      "0                                                0.0         \n",
      "1                                                0.0         \n",
      "3                                                0.0         \n",
      "4                                                0.0         \n",
      "5                                                0.0         \n",
      "\n",
      "   AIComplex_Very poor at handling complex tasks  \\\n",
      "0                                            0.0   \n",
      "1                                            0.0   \n",
      "3                                            0.0   \n",
      "4                                            0.0   \n",
      "5                                            0.0   \n",
      "\n",
      "   AIComplex_Very well at handling complex tasks  AIThreat_No  AIThreat_Yes  \\\n",
      "0                                            0.0          1.0           0.0   \n",
      "1                                            0.0          1.0           0.0   \n",
      "3                                            0.0          1.0           0.0   \n",
      "4                                            0.0          1.0           0.0   \n",
      "5                                            0.0          1.0           0.0   \n",
      "\n",
      "   SurveyLength_Too long  SurveyLength_Too short  \n",
      "0                    0.0                     0.0  \n",
      "1                    0.0                     0.0  \n",
      "3                    0.0                     0.0  \n",
      "4                    1.0                     0.0  \n",
      "5                    0.0                     0.0  \n",
      "\n",
      "[5 rows x 55 columns]\n"
     ]
    }
   ],
   "source": [
    "from sklearn.preprocessing import OneHotEncoder\n",
    "import pandas as pd\n",
    "\n",
    "# Припустимо, ваш DataFrame називається df\n",
    "categorical_columns = ['MainBranch', 'Age', 'RemoteWork', 'EdLevel', \n",
    "                       'SOVisitFreq', 'SOPartFreq', 'SOComm', \n",
    "                       'AISelect', 'AISent', 'AIAcc', \n",
    "                       'AIComplex', 'AIThreat', 'SurveyLength']\n",
    "\n",
    "# Ініціалізуємо OneHotEncoder\n",
    "encoder = OneHotEncoder(sparse_output=False, drop='first')\n",
    "\n",
    "# Застосовуємо OneHotEncoder до категоріальних стовпців\n",
    "encoded_columns = encoder.fit_transform(df[categorical_columns])\n",
    "\n",
    "# Створюємо новий DataFrame з перекодованими змінними і назвами колонок\n",
    "encoded_df = pd.DataFrame(encoded_columns, columns=encoder.get_feature_names_out(categorical_columns))\n",
    "\n",
    "# Об'єднуємо початковий DataFrame з новими перекодованими стовпцями\n",
    "df = df.drop(columns=categorical_columns)  # Видаляємо оригінальні категоріальні стовпці\n",
    "df = pd.concat([df, encoded_df], axis=1)\n",
    "\n",
    "# Перевіряємо результати\n",
    "print(df.head())\n",
    "\n"
   ]
  },
  {
   "cell_type": "code",
   "execution_count": 53,
   "id": "9228bb00-9d03-4350-96ad-a4d6f8fcc9ba",
   "metadata": {},
   "outputs": [],
   "source": [
    "#8 Виконайте нормалізацію кількісних змінних за допомогою класу MinMaxScaler з бібліотеки Sklearn "
   ]
  },
  {
   "cell_type": "code",
   "execution_count": 54,
   "id": "37d71ae5-40c7-42c0-b95f-d37e0880a093",
   "metadata": {},
   "outputs": [
    {
     "name": "stdout",
     "output_type": "stream",
     "text": [
      "   YearsCode  YearsCodePro\n",
      "0   0.290482      0.339983\n",
      "1   0.485714      0.666667\n",
      "3   0.028571      0.339983\n",
      "4   0.200000      0.339983\n",
      "5   0.114286      0.250000\n"
     ]
    }
   ],
   "source": [
    "import pandas as pd\n",
    "from sklearn.preprocessing import MinMaxScaler\n",
    "\n",
    "# Припустимо, ваш DataFrame називається df\n",
    "# Визначте кількісні стовпці, які потрібно нормалізувати\n",
    "numerical_columns = ['YearsCode', 'YearsCodePro']\n",
    "\n",
    "# Ініціалізуйте MinMaxScaler\n",
    "scaler = MinMaxScaler()\n",
    "\n",
    "# Застосуйте MinMaxScaler до кількісних стовпців\n",
    "df[numerical_columns] = scaler.fit_transform(df[numerical_columns])\n",
    "\n",
    "# Перевірте результати\n",
    "print(df[numerical_columns].head())\n"
   ]
  }
 ],
 "metadata": {
  "kernelspec": {
   "display_name": "Python 3 (ipykernel)",
   "language": "python",
   "name": "python3"
  },
  "language_info": {
   "codemirror_mode": {
    "name": "ipython",
    "version": 3
   },
   "file_extension": ".py",
   "mimetype": "text/x-python",
   "name": "python",
   "nbconvert_exporter": "python",
   "pygments_lexer": "ipython3",
   "version": "3.12.4"
  }
 },
 "nbformat": 4,
 "nbformat_minor": 5
}
